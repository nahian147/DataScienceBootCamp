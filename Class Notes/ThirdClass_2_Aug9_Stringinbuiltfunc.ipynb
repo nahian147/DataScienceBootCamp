{
  "nbformat": 4,
  "nbformat_minor": 0,
  "metadata": {
    "colab": {
      "provenance": []
    },
    "kernelspec": {
      "name": "python3",
      "display_name": "Python 3"
    },
    "language_info": {
      "name": "python"
    }
  },
  "cells": [
    {
      "cell_type": "code",
      "execution_count": 2,
      "metadata": {
        "colab": {
          "base_uri": "https://localhost:8080/"
        },
        "id": "Ra2QalPZR0uX",
        "outputId": "cf31813f-f9de-4ca8-d5b9-c2da613ef7dc"
      },
      "outputs": [
        {
          "output_type": "stream",
          "name": "stdout",
          "text": [
            "HloWrd\n"
          ]
        }
      ],
      "source": [
        "#string slicing [start:stop:step]\n",
        "temp_str= \"Hello World\"\n",
        "print(temp_str[::2])"
      ]
    },
    {
      "cell_type": "code",
      "source": [
        "dir(temp_str)"
      ],
      "metadata": {
        "colab": {
          "base_uri": "https://localhost:8080/"
        },
        "id": "gSHcMUK2SIqc",
        "outputId": "8f5b7b26-d6b5-4141-a1da-0e16f8a89a4f"
      },
      "execution_count": 3,
      "outputs": [
        {
          "output_type": "execute_result",
          "data": {
            "text/plain": [
              "['__add__',\n",
              " '__class__',\n",
              " '__contains__',\n",
              " '__delattr__',\n",
              " '__dir__',\n",
              " '__doc__',\n",
              " '__eq__',\n",
              " '__format__',\n",
              " '__ge__',\n",
              " '__getattribute__',\n",
              " '__getitem__',\n",
              " '__getnewargs__',\n",
              " '__gt__',\n",
              " '__hash__',\n",
              " '__init__',\n",
              " '__init_subclass__',\n",
              " '__iter__',\n",
              " '__le__',\n",
              " '__len__',\n",
              " '__lt__',\n",
              " '__mod__',\n",
              " '__mul__',\n",
              " '__ne__',\n",
              " '__new__',\n",
              " '__reduce__',\n",
              " '__reduce_ex__',\n",
              " '__repr__',\n",
              " '__rmod__',\n",
              " '__rmul__',\n",
              " '__setattr__',\n",
              " '__sizeof__',\n",
              " '__str__',\n",
              " '__subclasshook__',\n",
              " 'capitalize',\n",
              " 'casefold',\n",
              " 'center',\n",
              " 'count',\n",
              " 'encode',\n",
              " 'endswith',\n",
              " 'expandtabs',\n",
              " 'find',\n",
              " 'format',\n",
              " 'format_map',\n",
              " 'index',\n",
              " 'isalnum',\n",
              " 'isalpha',\n",
              " 'isascii',\n",
              " 'isdecimal',\n",
              " 'isdigit',\n",
              " 'isidentifier',\n",
              " 'islower',\n",
              " 'isnumeric',\n",
              " 'isprintable',\n",
              " 'isspace',\n",
              " 'istitle',\n",
              " 'isupper',\n",
              " 'join',\n",
              " 'ljust',\n",
              " 'lower',\n",
              " 'lstrip',\n",
              " 'maketrans',\n",
              " 'partition',\n",
              " 'removeprefix',\n",
              " 'removesuffix',\n",
              " 'replace',\n",
              " 'rfind',\n",
              " 'rindex',\n",
              " 'rjust',\n",
              " 'rpartition',\n",
              " 'rsplit',\n",
              " 'rstrip',\n",
              " 'split',\n",
              " 'splitlines',\n",
              " 'startswith',\n",
              " 'strip',\n",
              " 'swapcase',\n",
              " 'title',\n",
              " 'translate',\n",
              " 'upper',\n",
              " 'zfill']"
            ]
          },
          "metadata": {},
          "execution_count": 3
        }
      ]
    },
    {
      "cell_type": "code",
      "source": [
        "#capitalize = capitalizes 1st letter\n",
        "print(temp_str.capitalize())\n"
      ],
      "metadata": {
        "colab": {
          "base_uri": "https://localhost:8080/"
        },
        "id": "qbGRmbkCSoyC",
        "outputId": "88c9ecff-ac99-440e-eb32-e8d72cbbd890"
      },
      "execution_count": 7,
      "outputs": [
        {
          "output_type": "stream",
          "name": "stdout",
          "text": [
            "Hello world\n"
          ]
        }
      ]
    },
    {
      "cell_type": "code",
      "source": [
        "#casefold= lowercases all letters\n",
        "temp_str= \"HElLOPortUGAL\"\n",
        "print(temp_str.casefold())"
      ],
      "metadata": {
        "colab": {
          "base_uri": "https://localhost:8080/"
        },
        "id": "QjopbXKATTwI",
        "outputId": "25279536-32b2-47e9-c38a-96a8302d19a1"
      },
      "execution_count": 10,
      "outputs": [
        {
          "output_type": "stream",
          "name": "stdout",
          "text": [
            "helloportugal\n"
          ]
        }
      ]
    },
    {
      "cell_type": "code",
      "source": [
        "#center: brings string in center and fills rest with character (by default space)\n",
        "#CENTER(TOTAL LENGTH, fill rest with character)\n",
        "temp_str= \"HelloBarbie\"\n",
        "print(temp_str.center(27,'-'))"
      ],
      "metadata": {
        "colab": {
          "base_uri": "https://localhost:8080/"
        },
        "id": "pI1mvDiSUhzK",
        "outputId": "54be6511-b8f1-4c04-f422-bb4d163e0109"
      },
      "execution_count": 25,
      "outputs": [
        {
          "output_type": "stream",
          "name": "stdout",
          "text": [
            "--------HelloBarbie--------\n"
          ]
        }
      ]
    },
    {
      "cell_type": "code",
      "source": [
        "#Count: returns how many times substring appears in the given range by def picks full string\n",
        "temp_str= \"Hello Hey hi Hello how aRE YOU? hello\".casefold()\n",
        "#print(temp_str.count(\"hello\"))\n",
        "\n",
        "#how to give range\n",
        "#count(value,start,end)\n",
        "print(temp_str.count(\"hello\",2))\n"
      ],
      "metadata": {
        "colab": {
          "base_uri": "https://localhost:8080/"
        },
        "id": "Uk3LEWXEVD1N",
        "outputId": "6d734f08-53b2-4e2d-84e1-73415779d1a8"
      },
      "execution_count": 42,
      "outputs": [
        {
          "output_type": "stream",
          "name": "stdout",
          "text": [
            "2\n"
          ]
        }
      ]
    },
    {
      "cell_type": "code",
      "source": [
        "#EndsWith: returns true or false based on suffix passed\n",
        "temp_str= \"Hello World\"\n",
        "print(temp_str.endswith('lo',0,5))"
      ],
      "metadata": {
        "colab": {
          "base_uri": "https://localhost:8080/"
        },
        "id": "l3YSD0WXXYUL",
        "outputId": "a4f566a5-dd1f-430f-c916-e344aac23314"
      },
      "execution_count": 51,
      "outputs": [
        {
          "output_type": "stream",
          "name": "stdout",
          "text": [
            "True\n"
          ]
        }
      ]
    },
    {
      "cell_type": "code",
      "source": [
        "#Find: returns lowest index of the substring if found else returns -1\n",
        "temp_str= \"Hello Hey hi Hello how aRE YOU? hello\".casefold()\n",
        "print(temp_str.find('are'))"
      ],
      "metadata": {
        "colab": {
          "base_uri": "https://localhost:8080/"
        },
        "id": "hRjmFnzebnIj",
        "outputId": "037dbb5f-ff93-41ee-f81d-033fc5d7dd93"
      },
      "execution_count": 56,
      "outputs": [
        {
          "output_type": "stream",
          "name": "stdout",
          "text": [
            "23\n"
          ]
        }
      ]
    },
    {
      "cell_type": "code",
      "source": [
        "#Format:\n",
        "temp_str= \"Hello Hey hi {fname} Hello how aRE YOU? hello {name}\".casefold()\n",
        "print(temp_str.format(fname=\"Barbie\", name= \"Nahian\"))\n",
        "\n",
        "temp_str= \"Hello Hey hi {0} Hello how aRE YOU? hello {1}\".casefold()\n",
        "print(temp_str.format(\"Barbie\", \"Oppenheimer\"))\n"
      ],
      "metadata": {
        "colab": {
          "base_uri": "https://localhost:8080/"
        },
        "id": "r_yrt7lMd42X",
        "outputId": "e05ab7ca-8892-4388-a27a-26658c020aaa"
      },
      "execution_count": 59,
      "outputs": [
        {
          "output_type": "stream",
          "name": "stdout",
          "text": [
            "hello hey hi Barbie hello how are you? hello Nahian\n",
            "hello hey hi Barbie hello how are you? hello Oppenheimer\n"
          ]
        }
      ]
    },
    {
      "cell_type": "code",
      "source": [
        "#Functions skipped\n",
        "#1 formatmap\n",
        "#2 expandtabs\n",
        "\n",
        "#index same as find but doesnt return -1 if not found\n",
        "temp_str= \"Hello Hey hi Hello how aRE YOU? hello {1}\".casefold()\n",
        "print(temp_str.index(\"hey\"))"
      ],
      "metadata": {
        "colab": {
          "base_uri": "https://localhost:8080/"
        },
        "id": "cv7cfzzifpqZ",
        "outputId": "b03ce337-deb4-4a30-af9d-126bc181c380"
      },
      "execution_count": 61,
      "outputs": [
        {
          "output_type": "stream",
          "name": "stdout",
          "text": [
            "6\n"
          ]
        }
      ]
    },
    {
      "cell_type": "code",
      "source": [
        "#isalnum: Returns true if (only) numbers and alphabets are present\n",
        "temp_str= \"Hello Hey hi Hello how aRE YOU? hello\".casefold()\n",
        "temp_str1= \"HelloWorld\"#.casefold()\n",
        "#returns false if spaces and other chars\n",
        "print(temp_str.isalnum())\n",
        "print(temp_str1.isalnum())"
      ],
      "metadata": {
        "colab": {
          "base_uri": "https://localhost:8080/"
        },
        "id": "MEu6M_MAh512",
        "outputId": "d3353dd3-17e1-452c-8b70-a2cd7a00f6ca"
      },
      "execution_count": 70,
      "outputs": [
        {
          "output_type": "stream",
          "name": "stdout",
          "text": [
            "False\n",
            "True\n"
          ]
        }
      ]
    },
    {
      "cell_type": "code",
      "source": [
        "#isalpha: returns true if only alphabets are present\n",
        "temp_str= \"Hello Hey hi Hello how aRE YOU? hello\".casefold()\n",
        "temp_str1= \"HelloWorld\"#.casefold()\n",
        "#returns false if number, spaces and other chars\n",
        "print(temp_str.isalpha())\n",
        "print(temp_str1.isalpha())"
      ],
      "metadata": {
        "colab": {
          "base_uri": "https://localhost:8080/"
        },
        "id": "VIvi-SjijAQk",
        "outputId": "ee47eb8f-f64b-4e44-b43b-91695289011f"
      },
      "execution_count": 71,
      "outputs": [
        {
          "output_type": "stream",
          "name": "stdout",
          "text": [
            "False\n",
            "True\n"
          ]
        }
      ]
    },
    {
      "cell_type": "code",
      "source": [
        "#isdecimal: returns true if only numbers between 0-9 are present else return false\n",
        "temp_str= \"Hello Hey hi Hello how aRE YOU? hello\".casefold()\n",
        "temp_str1= \"12\"#.casefold()\n",
        "#returns false if number, spaces and other chars\n",
        "print(temp_str.isdecimal())\n",
        "print(temp_str1.isdecimal())"
      ],
      "metadata": {
        "colab": {
          "base_uri": "https://localhost:8080/"
        },
        "id": "YVhw6l3IjnPV",
        "outputId": "fe01c518-7774-4c50-e0a9-2cd74db33301"
      },
      "execution_count": 76,
      "outputs": [
        {
          "output_type": "stream",
          "name": "stdout",
          "text": [
            "False\n",
            "False\n"
          ]
        }
      ]
    },
    {
      "cell_type": "code",
      "source": [
        "#isdigit: returns true if only numbers between 0-9 are present else return false\n",
        "unicode_0=\"\\u0030\"\n",
        "temp_str= \"Hello Hey hi Hello how aRE YOU? hello\".casefold()\n",
        "temp_str1= \"0.12\"#.casefold()\n",
        "#returns false if number, spaces and other chars\n",
        "print(temp_str.isdigit())\n",
        "print(temp_str1.isdigit())\n",
        "print(unicode_0.isdigit())\n",
        "print(unicode_0.isdecimal())"
      ],
      "metadata": {
        "colab": {
          "base_uri": "https://localhost:8080/"
        },
        "id": "f3r9eqPslBQN",
        "outputId": "047beeaa-2d33-4ff6-c384-27fbd4ab4821"
      },
      "execution_count": 80,
      "outputs": [
        {
          "output_type": "stream",
          "name": "stdout",
          "text": [
            "False\n",
            "False\n",
            "True\n",
            "True\n"
          ]
        }
      ]
    },
    {
      "cell_type": "code",
      "source": [],
      "metadata": {
        "id": "khZ8X4G1laqG"
      },
      "execution_count": null,
      "outputs": []
    }
  ]
}