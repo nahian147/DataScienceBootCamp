{
  "nbformat": 4,
  "nbformat_minor": 0,
  "metadata": {
    "colab": {
      "provenance": []
    },
    "kernelspec": {
      "name": "python3",
      "display_name": "Python 3"
    },
    "language_info": {
      "name": "python"
    }
  },
  "cells": [
    {
      "cell_type": "code",
      "source": [
        "a_list=[1,2,3,4,5,11,1,2,6,1,8]\n",
        "\n",
        "# 1st way with the values\n",
        "for k in a_list:\n",
        "  print(k)\n",
        "\n",
        "# 2nd way with index\n",
        "for ind in range(len(a_list)):\n",
        "  print(a_list[ind])"
      ],
      "metadata": {
        "colab": {
          "base_uri": "https://localhost:8080/"
        },
        "id": "bwN6h_DIUiv5",
        "outputId": "e47b2b4d-7cc6-49bb-bdde-e78df964fca1"
      },
      "execution_count": null,
      "outputs": [
        {
          "output_type": "stream",
          "name": "stdout",
          "text": [
            "1\n",
            "2\n",
            "3\n",
            "4\n",
            "5\n",
            "11\n",
            "1\n",
            "2\n",
            "6\n",
            "1\n",
            "8\n"
          ]
        }
      ]
    },
    {
      "cell_type": "code",
      "source": [
        "#Remove all repeated elements from the list Given below using for loop.\n",
        "a_list=[1,2,3,4,5,11,1,2,6,1,8]\n",
        "unique_list=[]\n",
        "for k in a_list:\n",
        "  if k in unique_list:\n",
        "    print(\"Repeated Value :-\",k)\n",
        "  else:\n",
        "    unique_list.append(k)\n",
        "print(unique_list)"
      ],
      "metadata": {
        "colab": {
          "base_uri": "https://localhost:8080/"
        },
        "id": "pYEGgvuYWAo1",
        "outputId": "18862c34-8291-45eb-b97d-cab6cdf5c7c0"
      },
      "execution_count": null,
      "outputs": [
        {
          "output_type": "stream",
          "name": "stdout",
          "text": [
            "Repeated Value :- 1\n",
            "Repeated Value :- 2\n",
            "Repeated Value :- 1\n",
            "[1, 2, 3, 4, 5, 11, 6, 8]\n"
          ]
        }
      ]
    },
    {
      "cell_type": "code",
      "source": [
        "# With Sets\n",
        "a_list=[1,2,3,4,5,11,1,2,6,1,8]\n",
        "print(set(a_list))"
      ],
      "metadata": {
        "colab": {
          "base_uri": "https://localhost:8080/"
        },
        "id": "9O8zgwcBXO_V",
        "outputId": "2e0058ca-42a8-4c84-d78c-48eb1f792fe1"
      },
      "execution_count": null,
      "outputs": [
        {
          "output_type": "stream",
          "name": "stdout",
          "text": [
            "{1, 2, 3, 4, 5, 6, 8, 11}\n"
          ]
        }
      ]
    },
    {
      "cell_type": "code",
      "source": [
        "# Print all prime numbers below 100\n",
        "list_of_prime_numbers=[]\n",
        "for k in range(2,100):\n",
        "  flag=True\n",
        "  for s in range(2,k):\n",
        "    if k%s==0:\n",
        "      flag=False\n",
        "      break\n",
        "  if flag:\n",
        "    list_of_prime_numbers.append(k)\n",
        "\n",
        "for primes in list_of_prime_numbers:\n",
        "  print(primes,\"is a prime number\")"
      ],
      "metadata": {
        "colab": {
          "base_uri": "https://localhost:8080/"
        },
        "id": "_7vLGl4HXZGE",
        "outputId": "da297b38-afbf-4f8b-c3e8-dc4da4df3779"
      },
      "execution_count": null,
      "outputs": [
        {
          "output_type": "stream",
          "name": "stdout",
          "text": [
            "2 is a prime number\n",
            "3 is a prime number\n",
            "5 is a prime number\n",
            "7 is a prime number\n",
            "11 is a prime number\n",
            "13 is a prime number\n",
            "17 is a prime number\n",
            "19 is a prime number\n",
            "23 is a prime number\n",
            "29 is a prime number\n",
            "31 is a prime number\n",
            "37 is a prime number\n",
            "41 is a prime number\n",
            "43 is a prime number\n",
            "47 is a prime number\n",
            "53 is a prime number\n",
            "59 is a prime number\n",
            "61 is a prime number\n",
            "67 is a prime number\n",
            "71 is a prime number\n",
            "73 is a prime number\n",
            "79 is a prime number\n",
            "83 is a prime number\n",
            "89 is a prime number\n",
            "97 is a prime number\n"
          ]
        }
      ]
    },
    {
      "cell_type": "code",
      "source": [
        "# Question 3) print list in reverse order using for loop\n",
        "a=[1,2,3,4,5,6,7]\n",
        "reverse_list=[]\n",
        "# start,stop,steps\n",
        "for k in a[::-1]:\n",
        "  reverse_list.append(k)\n",
        "print(reverse_list)"
      ],
      "metadata": {
        "colab": {
          "base_uri": "https://localhost:8080/"
        },
        "id": "jRv4RQEQa-B6",
        "outputId": "3bfba8b2-e4f2-4cd4-c5ae-1903b9f3c6f7"
      },
      "execution_count": null,
      "outputs": [
        {
          "output_type": "stream",
          "name": "stdout",
          "text": [
            "[7, 6, 5, 4, 3, 2, 1]\n"
          ]
        }
      ]
    },
    {
      "cell_type": "code",
      "source": [
        "#print multiplication table of 13 using for loop\n",
        "for k in range(1,11):\n",
        "  print(str(k)+\" X 13 is =\",k*13)"
      ],
      "metadata": {
        "colab": {
          "base_uri": "https://localhost:8080/"
        },
        "id": "IY_E7USsdTWx",
        "outputId": "eead8aa7-c1aa-401e-aac7-0d4289820c60"
      },
      "execution_count": null,
      "outputs": [
        {
          "output_type": "stream",
          "name": "stdout",
          "text": [
            "1 X 13 is = 13\n",
            "2 X 13 is = 26\n",
            "3 X 13 is = 39\n",
            "4 X 13 is = 52\n",
            "5 X 13 is = 65\n",
            "6 X 13 is = 78\n",
            "7 X 13 is = 91\n",
            "8 X 13 is = 104\n",
            "9 X 13 is = 117\n",
            "10 X 13 is = 130\n"
          ]
        }
      ]
    },
    {
      "cell_type": "code",
      "source": [
        "a=15\n",
        "\n",
        "print(a/2)\n",
        "print(a//2)"
      ],
      "metadata": {
        "colab": {
          "base_uri": "https://localhost:8080/"
        },
        "id": "tmihKpbqjWkV",
        "outputId": "5054a22d-396e-4fd5-911b-5318707feaaf"
      },
      "execution_count": null,
      "outputs": [
        {
          "output_type": "stream",
          "name": "stdout",
          "text": [
            "7.5\n",
            "7\n"
          ]
        }
      ]
    },
    {
      "cell_type": "code",
      "source": [
        "#Write a program to find greatest common divisor (GCD) or highest common factor (HCF) of given two numbers.\n",
        "a=int(input(\"First Number\"))\n",
        "b=int(input(\"Second Number\"))\n",
        "\n",
        "smallest_number=min(a,b)\n",
        "# start,stop,step\n",
        "for k in range(smallest_number,-1,-1):\n",
        "  if a%k==0 and b%k==0:\n",
        "    print(\"The GCD IS \",k)\n",
        "    break"
      ],
      "metadata": {
        "colab": {
          "base_uri": "https://localhost:8080/"
        },
        "id": "jonbyHKVmoL8",
        "outputId": "8a2b3329-70bc-4e4e-d89f-4d78d7f1daee"
      },
      "execution_count": null,
      "outputs": [
        {
          "output_type": "stream",
          "name": "stdout",
          "text": [
            "First Number32\n",
            "Second Number14\n",
            "The GCD IS  2\n"
          ]
        }
      ]
    },
    {
      "cell_type": "code",
      "source": [
        "# factorial of a number\n",
        "num=int(input(\"Please enter a number \"))\n",
        "factorial=1\n",
        "\n",
        "for k in range(1,num+1):\n",
        "  factorial=factorial*k\n",
        "\n",
        "print(factorial)"
      ],
      "metadata": {
        "colab": {
          "base_uri": "https://localhost:8080/"
        },
        "id": "6GbbT9nSqXN8",
        "outputId": "3ab08434-f56a-4c53-ec3b-66cf892c170c"
      },
      "execution_count": null,
      "outputs": [
        {
          "output_type": "stream",
          "name": "stdout",
          "text": [
            "Please enter a number 0\n",
            "1\n"
          ]
        }
      ]
    },
    {
      "cell_type": "code",
      "source": [
        "# WAP to separate positive and negative number from a list.\n",
        "demo_list=[1,2,3,4,5,-2,-5,-9,-11,2,6]\n",
        "post_num=[]\n",
        "nega_num=[]\n",
        "for k in demo_list:\n",
        "  if k<0:\n",
        "    nega_num.append(k)\n",
        "  else:\n",
        "    post_num.append(k)\n",
        "\n",
        "print(post_num)\n",
        "print(nega_num)"
      ],
      "metadata": {
        "colab": {
          "base_uri": "https://localhost:8080/"
        },
        "id": "sWI7nyJ-sehD",
        "outputId": "f8e8a4c1-acf1-43c0-9db5-33b33bf81d65"
      },
      "execution_count": null,
      "outputs": [
        {
          "output_type": "stream",
          "name": "stdout",
          "text": [
            "[1, 2, 3, 4, 5, 2, 6]\n",
            "[-2, -5, -9, -11]\n"
          ]
        }
      ]
    },
    {
      "cell_type": "code",
      "source": [
        "fibonacci_list=[0,1]\n",
        "number_of_terms=int(input(\"Number of terms :- \"))\n",
        "while len(fibonacci_list)<number_of_terms:\n",
        "  next_term=fibonacci_list[-1]+fibonacci_list[-2]\n",
        "  fibonacci_list.append(next_term)\n",
        "print(fibonacci_list)\n",
        "#0, 1, 1, 2, 3, 5, 8, 13, 21, 34"
      ],
      "metadata": {
        "colab": {
          "base_uri": "https://localhost:8080/"
        },
        "id": "JzLE_KRmzYl9",
        "outputId": "1bb2083b-4bae-4be3-bd12-8b7c1c4a1a88"
      },
      "execution_count": null,
      "outputs": [
        {
          "output_type": "stream",
          "name": "stdout",
          "text": [
            "Number of terms :- 10\n",
            "[0, 1, 1, 2, 3, 5, 8, 13, 21, 34]\n"
          ]
        }
      ]
    }
  ]
}