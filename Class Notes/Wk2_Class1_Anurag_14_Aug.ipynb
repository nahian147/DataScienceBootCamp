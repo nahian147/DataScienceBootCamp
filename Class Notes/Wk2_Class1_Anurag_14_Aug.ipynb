{
  "nbformat": 4,
  "nbformat_minor": 0,
  "metadata": {
    "colab": {
      "provenance": []
    },
    "kernelspec": {
      "name": "python3",
      "display_name": "Python 3"
    },
    "language_info": {
      "name": "python"
    }
  },
  "cells": [
    {
      "cell_type": "code",
      "execution_count": null,
      "metadata": {
        "colab": {
          "base_uri": "https://localhost:8080/"
        },
        "id": "vaWpmQZqft7s",
        "outputId": "4457bf9d-3a4c-4474-8019-527e73fc0c69"
      },
      "outputs": [
        {
          "output_type": "stream",
          "name": "stdout",
          "text": [
            "if a<200\n",
            "if a<175\n",
            "if a<150\n",
            "if a<125\n",
            "else if a<100\n"
          ]
        }
      ],
      "source": [
        "#Nested If\n",
        "\n",
        "a=123\n",
        "\n",
        "if a<200:\n",
        "  print(\"if a<200\")\n",
        "  if a<175:\n",
        "    print(\"if a<175\")\n",
        "    if a<150:\n",
        "      print(\"if a<150\")\n",
        "      if a<125:\n",
        "        print(\"if a<125\")\n",
        "        if a<100:\n",
        "          print(\"if a<100\")\n",
        "          if a<75:\n",
        "            print(\"if a<75\")\n",
        "          else:\n",
        "            print(\"else if a<75\")\n",
        "        else:\n",
        "          print(\"else if a<100\")\n",
        "      else:\n",
        "        print(\"else if a<125\")\n",
        "    else:\n",
        "      print(\"else if a<150\")\n",
        "  else:\n",
        "    print(\"else if a<150\")\n",
        "else:\n",
        "    print(\"else if a<150\")\n",
        "\n",
        "\n",
        "\n",
        "\n"
      ]
    },
    {
      "cell_type": "code",
      "source": [
        "#while loop\n",
        "\n",
        "a=100\n",
        "\n",
        "while a>10:\n",
        "  print(a, 'is greater 10')\n",
        "  a-=1\n"
      ],
      "metadata": {
        "colab": {
          "base_uri": "https://localhost:8080/"
        },
        "id": "UcG-KmU9jWAm",
        "outputId": "351899fe-c652-496e-ab9f-e279e3c55bc5"
      },
      "execution_count": null,
      "outputs": [
        {
          "output_type": "stream",
          "name": "stdout",
          "text": [
            "100 is greater 10\n",
            "99 is greater 10\n",
            "98 is greater 10\n",
            "97 is greater 10\n",
            "96 is greater 10\n",
            "95 is greater 10\n",
            "94 is greater 10\n",
            "93 is greater 10\n",
            "92 is greater 10\n",
            "91 is greater 10\n",
            "90 is greater 10\n",
            "89 is greater 10\n",
            "88 is greater 10\n",
            "87 is greater 10\n",
            "86 is greater 10\n",
            "85 is greater 10\n",
            "84 is greater 10\n",
            "83 is greater 10\n",
            "82 is greater 10\n",
            "81 is greater 10\n",
            "80 is greater 10\n",
            "79 is greater 10\n",
            "78 is greater 10\n",
            "77 is greater 10\n",
            "76 is greater 10\n",
            "75 is greater 10\n",
            "74 is greater 10\n",
            "73 is greater 10\n",
            "72 is greater 10\n",
            "71 is greater 10\n",
            "70 is greater 10\n",
            "69 is greater 10\n",
            "68 is greater 10\n",
            "67 is greater 10\n",
            "66 is greater 10\n",
            "65 is greater 10\n",
            "64 is greater 10\n",
            "63 is greater 10\n",
            "62 is greater 10\n",
            "61 is greater 10\n",
            "60 is greater 10\n",
            "59 is greater 10\n",
            "58 is greater 10\n",
            "57 is greater 10\n",
            "56 is greater 10\n",
            "55 is greater 10\n",
            "54 is greater 10\n",
            "53 is greater 10\n",
            "52 is greater 10\n",
            "51 is greater 10\n",
            "50 is greater 10\n",
            "49 is greater 10\n",
            "48 is greater 10\n",
            "47 is greater 10\n",
            "46 is greater 10\n",
            "45 is greater 10\n",
            "44 is greater 10\n",
            "43 is greater 10\n",
            "42 is greater 10\n",
            "41 is greater 10\n",
            "40 is greater 10\n",
            "39 is greater 10\n",
            "38 is greater 10\n",
            "37 is greater 10\n",
            "36 is greater 10\n",
            "35 is greater 10\n",
            "34 is greater 10\n",
            "33 is greater 10\n",
            "32 is greater 10\n",
            "31 is greater 10\n",
            "30 is greater 10\n",
            "29 is greater 10\n",
            "28 is greater 10\n",
            "27 is greater 10\n",
            "26 is greater 10\n",
            "25 is greater 10\n",
            "24 is greater 10\n",
            "23 is greater 10\n",
            "22 is greater 10\n",
            "21 is greater 10\n",
            "20 is greater 10\n",
            "19 is greater 10\n",
            "18 is greater 10\n",
            "17 is greater 10\n",
            "16 is greater 10\n",
            "15 is greater 10\n",
            "14 is greater 10\n",
            "13 is greater 10\n",
            "12 is greater 10\n",
            "11 is greater 10\n"
          ]
        }
      ]
    },
    {
      "cell_type": "code",
      "source": [
        "a=10\n",
        "\n",
        "while a<100:\n",
        "  print(a, 'is less than 100')\n",
        "  a+=10"
      ],
      "metadata": {
        "colab": {
          "base_uri": "https://localhost:8080/"
        },
        "id": "sMJG3Q4Lj2PM",
        "outputId": "4e11c98e-2677-4c0c-9f17-fec23eafc64c"
      },
      "execution_count": null,
      "outputs": [
        {
          "output_type": "stream",
          "name": "stdout",
          "text": [
            "10 is less than 100\n",
            "20 is less than 100\n",
            "30 is less than 100\n",
            "40 is less than 100\n",
            "50 is less than 100\n",
            "60 is less than 100\n",
            "70 is less than 100\n",
            "80 is less than 100\n",
            "90 is less than 100\n"
          ]
        }
      ]
    },
    {
      "cell_type": "code",
      "source": [
        "i=100\n",
        "\n",
        "while i<200:\n",
        "  print(i, 'is less than 200')\n",
        "  i+=10\n",
        "\n"
      ],
      "metadata": {
        "colab": {
          "base_uri": "https://localhost:8080/"
        },
        "id": "wn4xmI9ok7rk",
        "outputId": "8ce41701-2a1b-413a-88fa-2afb214be789"
      },
      "execution_count": null,
      "outputs": [
        {
          "output_type": "stream",
          "name": "stdout",
          "text": [
            "100 is less than 200\n",
            "110 is less than 200\n",
            "120 is less than 200\n",
            "130 is less than 200\n",
            "140 is less than 200\n",
            "150 is less than 200\n",
            "160 is less than 200\n",
            "170 is less than 200\n",
            "180 is less than 200\n",
            "190 is less than 200\n"
          ]
        }
      ]
    },
    {
      "cell_type": "code",
      "source": [
        "j=300\n",
        "\n",
        "while j>200:\n",
        "  print(j, 'is greater than 200')\n",
        "  j-=20\n",
        "\n"
      ],
      "metadata": {
        "colab": {
          "base_uri": "https://localhost:8080/"
        },
        "id": "UFG4ay3GlpDy",
        "outputId": "ddc77763-fe62-45f7-8934-d349012b2ca7"
      },
      "execution_count": null,
      "outputs": [
        {
          "output_type": "stream",
          "name": "stdout",
          "text": [
            "300 is greater than 200\n",
            "280 is greater than 200\n",
            "260 is greater than 200\n",
            "240 is greater than 200\n",
            "220 is greater than 200\n"
          ]
        }
      ]
    },
    {
      "cell_type": "code",
      "source": [
        "#break continue pass\n",
        "\n",
        "#break\n",
        "a=10\n",
        "while a<100:\n",
        "  if a==50:\n",
        "    break\n",
        "  print(a, \"is less than 100\")\n",
        "  a+=10\n",
        "\n",
        "\n"
      ],
      "metadata": {
        "colab": {
          "base_uri": "https://localhost:8080/"
        },
        "id": "DetHiZdimZky",
        "outputId": "44977078-f835-4d0c-fd08-7bc93926c522"
      },
      "execution_count": null,
      "outputs": [
        {
          "output_type": "stream",
          "name": "stdout",
          "text": [
            "10 is less than 100\n",
            "20 is less than 100\n",
            "30 is less than 100\n",
            "40 is less than 100\n"
          ]
        }
      ]
    },
    {
      "cell_type": "code",
      "source": [
        "a=10\n",
        "while a<100:\n",
        "  a+=10\n",
        "  if a==50:\n",
        "    continue #conitnue skips when a=50\n",
        "  print(a, \"is less than 100\")\n",
        "  #a+=10\n"
      ],
      "metadata": {
        "colab": {
          "base_uri": "https://localhost:8080/"
        },
        "id": "89uM09iVpPTB",
        "outputId": "921e82ec-3276-49b1-8a2e-c0efa644427d"
      },
      "execution_count": null,
      "outputs": [
        {
          "output_type": "stream",
          "name": "stdout",
          "text": [
            "20 is less than 100\n",
            "30 is less than 100\n",
            "40 is less than 100\n",
            "60 is less than 100\n",
            "70 is less than 100\n",
            "80 is less than 100\n",
            "90 is less than 100\n",
            "100 is less than 100\n"
          ]
        }
      ]
    },
    {
      "cell_type": "code",
      "source": [
        "#pass\n",
        "a=200\n",
        "while a<500:\n",
        "  pass #continues till infinity"
      ],
      "metadata": {
        "colab": {
          "base_uri": "https://localhost:8080/",
          "height": 233
        },
        "id": "J4w4QjsapjsA",
        "outputId": "58df7621-e158-4851-c32f-1db764690171"
      },
      "execution_count": null,
      "outputs": [
        {
          "output_type": "error",
          "ename": "KeyboardInterrupt",
          "evalue": "ignored",
          "traceback": [
            "\u001b[0;31m---------------------------------------------------------------------------\u001b[0m",
            "\u001b[0;31mKeyboardInterrupt\u001b[0m                         Traceback (most recent call last)",
            "\u001b[0;32m<ipython-input-28-70bf59dae03a>\u001b[0m in \u001b[0;36m<cell line: 3>\u001b[0;34m()\u001b[0m\n\u001b[1;32m      1\u001b[0m \u001b[0;31m#pass\u001b[0m\u001b[0;34m\u001b[0m\u001b[0;34m\u001b[0m\u001b[0m\n\u001b[1;32m      2\u001b[0m \u001b[0ma\u001b[0m\u001b[0;34m=\u001b[0m\u001b[0;36m200\u001b[0m\u001b[0;34m\u001b[0m\u001b[0;34m\u001b[0m\u001b[0m\n\u001b[0;32m----> 3\u001b[0;31m \u001b[0;32mwhile\u001b[0m \u001b[0ma\u001b[0m\u001b[0;34m<\u001b[0m\u001b[0;36m500\u001b[0m\u001b[0;34m:\u001b[0m\u001b[0;34m\u001b[0m\u001b[0;34m\u001b[0m\u001b[0m\n\u001b[0m\u001b[1;32m      4\u001b[0m   \u001b[0;32mpass\u001b[0m \u001b[0;31m#continues till infinity\u001b[0m\u001b[0;34m\u001b[0m\u001b[0;34m\u001b[0m\u001b[0m\n",
            "\u001b[0;31mKeyboardInterrupt\u001b[0m: "
          ]
        }
      ]
    },
    {
      "cell_type": "code",
      "source": [
        "a=0\n",
        "while a<101:\n",
        "  if(a%2==0):\n",
        "    print(a, \"is even\")\n",
        "  else:\n",
        "    print(a, \"is odd\")\n",
        "  a+=1"
      ],
      "metadata": {
        "colab": {
          "base_uri": "https://localhost:8080/"
        },
        "id": "F-7IgLGkrlxg",
        "outputId": "39491e24-a973-4395-c20f-28814088efeb"
      },
      "execution_count": null,
      "outputs": [
        {
          "output_type": "stream",
          "name": "stdout",
          "text": [
            "0 is even\n",
            "1 is odd\n",
            "2 is even\n",
            "3 is odd\n",
            "4 is even\n",
            "5 is odd\n",
            "6 is even\n",
            "7 is odd\n",
            "8 is even\n",
            "9 is odd\n",
            "10 is even\n",
            "11 is odd\n",
            "12 is even\n",
            "13 is odd\n",
            "14 is even\n",
            "15 is odd\n",
            "16 is even\n",
            "17 is odd\n",
            "18 is even\n",
            "19 is odd\n",
            "20 is even\n",
            "21 is odd\n",
            "22 is even\n",
            "23 is odd\n",
            "24 is even\n",
            "25 is odd\n",
            "26 is even\n",
            "27 is odd\n",
            "28 is even\n",
            "29 is odd\n",
            "30 is even\n",
            "31 is odd\n",
            "32 is even\n",
            "33 is odd\n",
            "34 is even\n",
            "35 is odd\n",
            "36 is even\n",
            "37 is odd\n",
            "38 is even\n",
            "39 is odd\n",
            "40 is even\n",
            "41 is odd\n",
            "42 is even\n",
            "43 is odd\n",
            "44 is even\n",
            "45 is odd\n",
            "46 is even\n",
            "47 is odd\n",
            "48 is even\n",
            "49 is odd\n",
            "50 is even\n",
            "51 is odd\n",
            "52 is even\n",
            "53 is odd\n",
            "54 is even\n",
            "55 is odd\n",
            "56 is even\n",
            "57 is odd\n",
            "58 is even\n",
            "59 is odd\n",
            "60 is even\n",
            "61 is odd\n",
            "62 is even\n",
            "63 is odd\n",
            "64 is even\n",
            "65 is odd\n",
            "66 is even\n",
            "67 is odd\n",
            "68 is even\n",
            "69 is odd\n",
            "70 is even\n",
            "71 is odd\n",
            "72 is even\n",
            "73 is odd\n",
            "74 is even\n",
            "75 is odd\n",
            "76 is even\n",
            "77 is odd\n",
            "78 is even\n",
            "79 is odd\n",
            "80 is even\n",
            "81 is odd\n",
            "82 is even\n",
            "83 is odd\n",
            "84 is even\n",
            "85 is odd\n",
            "86 is even\n",
            "87 is odd\n",
            "88 is even\n",
            "89 is odd\n",
            "90 is even\n",
            "91 is odd\n",
            "92 is even\n",
            "93 is odd\n",
            "94 is even\n",
            "95 is odd\n",
            "96 is even\n",
            "97 is odd\n",
            "98 is even\n",
            "99 is odd\n",
            "100 is even\n"
          ]
        }
      ]
    },
    {
      "cell_type": "code",
      "source": [
        "total=0\n",
        "num = int(input(\"Enter a  number \"))\n",
        "\n",
        "while num!=0:\n",
        "  total+=num\n",
        "  num=int(input(\"Enter a number \"))\n",
        "print(total)\n"
      ],
      "metadata": {
        "colab": {
          "base_uri": "https://localhost:8080/"
        },
        "id": "IRQzZnffsgLH",
        "outputId": "59034fe3-5864-423f-e2d8-84cae56afa21"
      },
      "execution_count": null,
      "outputs": [
        {
          "output_type": "stream",
          "name": "stdout",
          "text": [
            "Enter a  number1\n",
            "Enter a number2\n",
            "Enter a number3\n",
            "Enter a number0\n",
            "6\n"
          ]
        }
      ]
    },
    {
      "cell_type": "code",
      "source": [
        "total=0\n",
        "age = int(input(\"Enter an age \"))\n",
        "\n",
        "while age>17:\n",
        "  total+=1\n",
        "  age=int(input(\"Enter an age \"))\n",
        "print(total)"
      ],
      "metadata": {
        "colab": {
          "base_uri": "https://localhost:8080/"
        },
        "id": "02v4Hm2expx1",
        "outputId": "129a47c6-6a47-4c22-f1e6-a8318eefe6cc"
      },
      "execution_count": null,
      "outputs": [
        {
          "output_type": "stream",
          "name": "stdout",
          "text": [
            "Enter an age 21\n",
            "Enter an age 23\n",
            "Enter an age 22\n",
            "Enter an age 12\n",
            "3\n"
          ]
        }
      ]
    },
    {
      "cell_type": "code",
      "source": [
        "lst1= [1,2,3,4,5,6,7,8,9,10,11,22,33,44,55,66,77,88,99,110]\n",
        "\n",
        "while len(lst1)>0:\n",
        "  lst1.pop()\n",
        "  print(lst1)"
      ],
      "metadata": {
        "colab": {
          "base_uri": "https://localhost:8080/"
        },
        "id": "ulChOUAZyriM",
        "outputId": "1bbcd7b4-c990-405f-b773-22979d1855e7"
      },
      "execution_count": null,
      "outputs": [
        {
          "output_type": "stream",
          "name": "stdout",
          "text": [
            "[1, 2, 3, 4, 5, 6, 7, 8, 9, 10, 11, 22, 33, 44, 55, 66, 77, 88, 99]\n",
            "[1, 2, 3, 4, 5, 6, 7, 8, 9, 10, 11, 22, 33, 44, 55, 66, 77, 88]\n",
            "[1, 2, 3, 4, 5, 6, 7, 8, 9, 10, 11, 22, 33, 44, 55, 66, 77]\n",
            "[1, 2, 3, 4, 5, 6, 7, 8, 9, 10, 11, 22, 33, 44, 55, 66]\n",
            "[1, 2, 3, 4, 5, 6, 7, 8, 9, 10, 11, 22, 33, 44, 55]\n",
            "[1, 2, 3, 4, 5, 6, 7, 8, 9, 10, 11, 22, 33, 44]\n",
            "[1, 2, 3, 4, 5, 6, 7, 8, 9, 10, 11, 22, 33]\n",
            "[1, 2, 3, 4, 5, 6, 7, 8, 9, 10, 11, 22]\n",
            "[1, 2, 3, 4, 5, 6, 7, 8, 9, 10, 11]\n",
            "[1, 2, 3, 4, 5, 6, 7, 8, 9, 10]\n",
            "[1, 2, 3, 4, 5, 6, 7, 8, 9]\n",
            "[1, 2, 3, 4, 5, 6, 7, 8]\n",
            "[1, 2, 3, 4, 5, 6, 7]\n",
            "[1, 2, 3, 4, 5, 6]\n",
            "[1, 2, 3, 4, 5]\n",
            "[1, 2, 3, 4]\n",
            "[1, 2, 3]\n",
            "[1, 2]\n",
            "[1]\n",
            "[]\n"
          ]
        }
      ]
    },
    {
      "cell_type": "code",
      "source": [
        "#Write a propgram divisible by 5 and 7\n",
        "\n",
        "a=int(input(\"Enter a number: \\n\"))\n",
        "\n",
        "while (a%5==0 and a%7==0) :\n",
        "  print(\"divisible by 5 and 7\")\n",
        "  break\n",
        "else:\n",
        "  print(\"not divisible\")\n"
      ],
      "metadata": {
        "colab": {
          "base_uri": "https://localhost:8080/"
        },
        "id": "WTmVreV_2anU",
        "outputId": "1eeac383-0cc2-4c9e-918c-36ec007902e1"
      },
      "execution_count": null,
      "outputs": [
        {
          "output_type": "stream",
          "name": "stdout",
          "text": [
            "Enter a number: \n",
            "35\n",
            "divisible by 5 and 7\n"
          ]
        }
      ]
    },
    {
      "cell_type": "code",
      "source": [],
      "metadata": {
        "id": "-3De9Pkh6UXB"
      },
      "execution_count": null,
      "outputs": []
    }
  ]
}