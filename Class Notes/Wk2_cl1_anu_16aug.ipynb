{
  "nbformat": 4,
  "nbformat_minor": 0,
  "metadata": {
    "colab": {
      "provenance": []
    },
    "kernelspec": {
      "name": "python3",
      "display_name": "Python 3"
    },
    "language_info": {
      "name": "python"
    }
  },
  "cells": [
    {
      "cell_type": "code",
      "execution_count": null,
      "metadata": {
        "colab": {
          "base_uri": "https://localhost:8080/"
        },
        "id": "FnKS0T8Cy7Z3",
        "outputId": "cacdd0bc-9c30-4177-a0da-02d5ea5d58e7"
      },
      "outputs": [
        {
          "output_type": "stream",
          "name": "stdout",
          "text": [
            "          * \r\n",
            "         * * \r\n",
            "        * * * \r\n",
            "       * * * * \r\n",
            "      * * * * * \r\n",
            "     * * * * * * \r\n",
            "    * * * * * * * \r\n",
            "   * * * * * * * * \r\n",
            "  * * * * * * * * * \r\n",
            " * * * * * * * * * * \r\n"
          ]
        }
      ],
      "source": [
        "for i in range(10):\n",
        "  for j in range(0, 10-i):\n",
        "    print(' ', end='')\n",
        "  for j in range(0,i+1):\n",
        "    print('*', end=' ')\n",
        "  print(\"\\r\")\n"
      ]
    },
    {
      "cell_type": "code",
      "source": [
        "# hollow square pattern\n",
        "\n",
        "size = int(input(\"Enter size of hollow square: \\n\"))\n",
        "for i in range(size):\n",
        "  for j in range(size):\n",
        "    if i == 0 or i == size - 1 or j == 0 or j == size - 1:\n",
        "      print('*', end=' ')\n",
        "    else:\n",
        "      print(' ', end=' ')\n",
        "  print()"
      ],
      "metadata": {
        "colab": {
          "base_uri": "https://localhost:8080/"
        },
        "id": "E4-L67NS1bP-",
        "outputId": "43f468b8-1410-4726-8e2f-58a881040049"
      },
      "execution_count": null,
      "outputs": [
        {
          "output_type": "stream",
          "name": "stdout",
          "text": [
            "Enter size of hollow square: \n",
            "5\n",
            "* * * * * \n",
            "*       * \n",
            "*       * \n",
            "*       * \n",
            "* * * * * \n"
          ]
        }
      ]
    },
    {
      "cell_type": "code",
      "source": [
        "#fibonacci series\n",
        "\n",
        "length=int(input(\"Please enter the length of your fibonacci series: \\n\"))\n",
        "\n",
        "a=0\n",
        "b=1\n",
        "\n",
        "print(\"The fibonacci series: \")\n",
        "\n",
        "print(a,\",\", end=\" \")\n",
        "\n",
        "print(b,\",\", end=\" \")\n",
        "\n",
        "for i in range(length-2):\n",
        "  c= a+b\n",
        "  if i==(length-3):\n",
        "    print(c,\".\", end=\" \")\n",
        "  else:\n",
        "    print(c,\",\", end=\" \")\n",
        "\n",
        "  a=b\n",
        "  b=c\n",
        "\n",
        "\n"
      ],
      "metadata": {
        "colab": {
          "base_uri": "https://localhost:8080/"
        },
        "id": "Av7my19N3RNp",
        "outputId": "361aa830-00f6-49ee-f7dd-f4f38c1e2eee"
      },
      "execution_count": null,
      "outputs": [
        {
          "output_type": "stream",
          "name": "stdout",
          "text": [
            "Please enter the length of your fibonacci series: \n",
            "8\n",
            "The fibonacci series: \n",
            "0 , 1 , 1 , 2 , 3 , 5 , 8 , 13 . "
          ]
        }
      ]
    },
    {
      "cell_type": "code",
      "source": [
        "record={\"Sameer\":89, \"Sabina\":87,\"Inder\":37,\"Keshav\":57,\"Kisto\":31 }\n",
        "#print(len(record))\n",
        "\n",
        "for keys, values in record.items():\n",
        "\n",
        "  if values<35 :\n",
        "    grade= \"F\"\n",
        "    greeting=\"Failed. Better luck next time!\"\n",
        "  elif 35<=values<45:\n",
        "    grade= \"E\"\n",
        "    greeting=\"Passed but Work harder!\"\n",
        "  elif 45<=values<50:\n",
        "    grade= \"D\"\n",
        "    greeting=\"Passed. Theres room for improvement\"\n",
        "\n",
        "  elif 50<=values<60:\n",
        "    grade= \"C\"\n",
        "    greeting=\"Passed. You are getting there!\"\n",
        "\n",
        "  elif 60<=values<80:\n",
        "    grade= \"B\"\n",
        "    greeting=\"Excellent. All the best!\"\n",
        "\n",
        "  elif values>=80:\n",
        "    grade= \"A\"\n",
        "    greeting=\"Congratulations. Sky is the limit!\"\n",
        "\n",
        "  print(keys, \"has got a grade\", grade,\"with\", values,\"marks.\", greeting)\n",
        "\n"
      ],
      "metadata": {
        "colab": {
          "base_uri": "https://localhost:8080/"
        },
        "id": "eWcNS5Uq5bVi",
        "outputId": "03c9f3c2-57d3-4808-8ef5-060de26c9b74"
      },
      "execution_count": null,
      "outputs": [
        {
          "output_type": "stream",
          "name": "stdout",
          "text": [
            "Sameer has got a grade A with 89 marks. Congratulations. Sky is the limit!\n",
            "Sabina has got a grade A with 87 marks. Congratulations. Sky is the limit!\n",
            "Inder has got a grade E with 37 marks. Passed but Work harder!\n",
            "Keshav has got a grade C with 57 marks. Passed. You are getting there!\n",
            "Kisto has got a grade F with 31 marks. Failed. Better luck next time!\n"
          ]
        }
      ]
    },
    {
      "cell_type": "code",
      "source": [
        "#FUNCTIONS in python\n",
        "\n",
        "\"\"\"1. IN BUILT FUNCTIONS\n",
        "  2. USER DEFINED FUNCTIONS \"\"\"\n",
        "\n",
        "#TYPE CASTING FUNCTIONS\n",
        "\n",
        "int(),float(),complex(),bool(),str()\n",
        "list(),tuple(),set(),dict()\n",
        "\n"
      ],
      "metadata": {
        "id": "lE25UCQsCFoX"
      },
      "execution_count": null,
      "outputs": []
    },
    {
      "cell_type": "code",
      "source": [
        "int1=1997\n",
        "\n",
        "print(float(int1))\n",
        "print(complex(int1))\n",
        "print(bool(int1))\n",
        "print(str(int1))\n",
        "#print(list(int1)) TypeError: 'int' object is not iterable\n",
        "#print(tuple(int1)) TypeError: 'int' object is not iterable\n",
        "#print(set(int1)) TypeError: 'int' object is not iterable\n",
        "#print(dict(int1)) TypeError: 'int' object is not iterable"
      ],
      "metadata": {
        "colab": {
          "base_uri": "https://localhost:8080/"
        },
        "id": "lCyNYF3kHo9y",
        "outputId": "7f8178aa-4a23-497e-f1c9-177f6c56b76f"
      },
      "execution_count": null,
      "outputs": [
        {
          "output_type": "stream",
          "name": "stdout",
          "text": [
            "1997.0\n",
            "(1997+0j)\n",
            "True\n",
            "1997\n"
          ]
        }
      ]
    },
    {
      "cell_type": "code",
      "source": [
        "#covert decimal to bin() oct() hex()\n",
        "for i in range(100):\n",
        "  print(\"Decimal of\", i,\"is\", i )\n",
        "  print(\"Binary of\", i,\"is\", bin(i))\n",
        "  print(\"Octadec of\", i,\"is\", oct(i))\n",
        "  print(\"Hexadec of\", i,\"is\",hex(i))\n",
        "  print(\"\\r\")\n",
        "\n"
      ],
      "metadata": {
        "id": "U4xTho15IBzI"
      },
      "execution_count": null,
      "outputs": []
    },
    {
      "cell_type": "code",
      "source": [
        "#help shows details of function\n",
        "\n",
        "help(input)"
      ],
      "metadata": {
        "colab": {
          "base_uri": "https://localhost:8080/"
        },
        "id": "J31HKKXKJ19l",
        "outputId": "d89cc073-55ba-4a18-8f16-ce2155d7a955"
      },
      "execution_count": null,
      "outputs": [
        {
          "output_type": "stream",
          "name": "stdout",
          "text": [
            "Help on method raw_input in module ipykernel.kernelbase:\n",
            "\n",
            "raw_input(prompt='') method of google.colab._kernel.Kernel instance\n",
            "    Forward raw_input to frontends\n",
            "    \n",
            "    Raises\n",
            "    ------\n",
            "    StdinNotImplementedError if active frontend doesn't support stdin.\n",
            "\n"
          ]
        }
      ]
    },
    {
      "cell_type": "code",
      "source": [
        "#user defined function\n",
        "\n",
        "def sum_of_two(a,b):\n",
        "  return(a+b)\n",
        "\n",
        "sum_of_two(1,2)\n",
        "\n",
        "sum_of_two(True,False)"
      ],
      "metadata": {
        "colab": {
          "base_uri": "https://localhost:8080/"
        },
        "id": "denuMT0YLiE1",
        "outputId": "2671dc83-3ef1-4698-9b1d-ab0df5d0b387"
      },
      "execution_count": null,
      "outputs": [
        {
          "output_type": "execute_result",
          "data": {
            "text/plain": [
              "1"
            ]
          },
          "metadata": {},
          "execution_count": 71
        }
      ]
    },
    {
      "cell_type": "code",
      "source": [
        "\n",
        "sum_of_two(\"Nahian\",\"Kabir\")\n"
      ],
      "metadata": {
        "colab": {
          "base_uri": "https://localhost:8080/",
          "height": 36
        },
        "id": "C4MjLoakMyIn",
        "outputId": "60db01f0-9a3a-47bd-ef55-18d7a6066d90"
      },
      "execution_count": null,
      "outputs": [
        {
          "output_type": "execute_result",
          "data": {
            "text/plain": [
              "'NahianKabir'"
            ],
            "application/vnd.google.colaboratory.intrinsic+json": {
              "type": "string"
            }
          },
          "metadata": {},
          "execution_count": 72
        }
      ]
    },
    {
      "cell_type": "code",
      "source": [
        "sum_of_two([1,2,3],[1,2,2])\n"
      ],
      "metadata": {
        "colab": {
          "base_uri": "https://localhost:8080/"
        },
        "id": "0lsoTPYUNR-p",
        "outputId": "36e06dad-02e1-4d5d-cae7-a0b13734fea5"
      },
      "execution_count": null,
      "outputs": [
        {
          "output_type": "execute_result",
          "data": {
            "text/plain": [
              "[1, 2, 3, 1, 2, 2]"
            ]
          },
          "metadata": {},
          "execution_count": 73
        }
      ]
    },
    {
      "cell_type": "code",
      "source": [
        "sum_of_two((1,2,3),(1,2,2))\n"
      ],
      "metadata": {
        "colab": {
          "base_uri": "https://localhost:8080/"
        },
        "id": "oKOHfkOdNYAK",
        "outputId": "bd6e833f-d486-49ba-b50f-8eace2bcf3e7"
      },
      "execution_count": null,
      "outputs": [
        {
          "output_type": "execute_result",
          "data": {
            "text/plain": [
              "(1, 2, 3, 1, 2, 2)"
            ]
          },
          "metadata": {},
          "execution_count": 74
        }
      ]
    },
    {
      "cell_type": "code",
      "source": [
        "# sum_of_two({1,2,3},{1,2,2}) TypeError: unsupported operand type(s) for +: 'set' and 'set'\n",
        "#doesnt work for set and dictionary"
      ],
      "metadata": {
        "id": "8oMA6gICNo8r"
      },
      "execution_count": null,
      "outputs": []
    },
    {
      "cell_type": "code",
      "source": [],
      "metadata": {
        "id": "bXxCAKCsNz1i"
      },
      "execution_count": null,
      "outputs": []
    }
  ]
}