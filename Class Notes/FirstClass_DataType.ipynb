{
  "nbformat": 4,
  "nbformat_minor": 0,
  "metadata": {
    "colab": {
      "provenance": []
    },
    "kernelspec": {
      "name": "python3",
      "display_name": "Python 3"
    },
    "language_info": {
      "name": "python"
    }
  },
  "cells": [
    {
      "cell_type": "code",
      "source": [
        "# valid variables and invalid variables\n",
        "\n",
        "name = 'Anuurag'\n",
        "# 12gender = 'M'\n",
        "# @address = '123 Park Street'\n",
        "_fname = 'Umesh'\n",
        "gen12der = 'M'\n",
        "print(name, _fname, gen12der)\n",
        "last@name = 'Peter'"
      ],
      "metadata": {
        "id": "-FaShzJBO7yJ"
      },
      "execution_count": null,
      "outputs": []
    },
    {
      "cell_type": "code",
      "source": [
        "#**Python Data Type**\n",
        "\n",
        "      1. Standard Data Type\n",
        "        1. Numbers\n",
        "          1. Integer\n",
        "          2. Float\n",
        "          3. Complex\n",
        "        2. Boolean\n",
        "        3. String\n",
        "      2. Data Structure Data Type\n",
        "        1. List\n",
        "        2. Tuple\n",
        "        3. Set\n",
        "        4. Dictionary"
      ],
      "metadata": {
        "id": "eGGi0UNNPBJN"
      },
      "execution_count": null,
      "outputs": []
    },
    {
      "cell_type": "code",
      "source": [
        "# Integer : Any whole number (+ve or -ve) is called as integer\n",
        "\n",
        "int1 = 1947\n",
        "print(int1)\n",
        "print(type(int1))\n",
        "\n",
        "int1 = -1947\n",
        "print(int1)\n",
        "print(type(int1))"
      ],
      "metadata": {
        "id": "ngsBVMxEPDri"
      },
      "execution_count": null,
      "outputs": []
    },
    {
      "cell_type": "code",
      "execution_count": null,
      "metadata": {
        "id": "hRygN-LbRL7N"
      },
      "outputs": [],
      "source": [
        "abcd=1\n",
        "abcd= 'Hello'\n",
        "print(abcd)\n"
      ]
    },
    {
      "cell_type": "code",
      "source": [
        "# Float : Any combination of whole number and fractional number (+ve or -ve) is called as float.\n",
        "\n",
        "flt1 = 3.1415\n",
        "print(flt1)\n",
        "print(type(flt1))\n",
        "\n",
        "flt1 = -3.1415\n",
        "print(flt1)\n",
        "print(type(flt1))"
      ],
      "metadata": {
        "id": "34FT3aX-PGDg"
      },
      "execution_count": null,
      "outputs": []
    },
    {
      "cell_type": "code",
      "source": [
        "print(abcd)"
      ],
      "metadata": {
        "id": "yezJ5N7jXFgr",
        "outputId": "ba4eadb6-dbf4-4e40-c6a3-2971069c8e43",
        "colab": {
          "base_uri": "https://localhost:8080/"
        }
      },
      "execution_count": null,
      "outputs": [
        {
          "output_type": "stream",
          "name": "stdout",
          "text": [
            "Hello\n"
          ]
        }
      ]
    }
  ]
}