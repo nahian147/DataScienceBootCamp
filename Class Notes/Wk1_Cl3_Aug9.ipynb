{
  "nbformat": 4,
  "nbformat_minor": 0,
  "metadata": {
    "colab": {
      "provenance": []
    },
    "kernelspec": {
      "name": "python3",
      "display_name": "Python 3"
    },
    "language_info": {
      "name": "python"
    }
  },
  "cells": [
    {
      "cell_type": "code",
      "execution_count": null,
      "metadata": {
        "id": "RwWSYhwlAZhn"
      },
      "outputs": [],
      "source": [
        "#valid and invalid variables\n",
        "name = 'Anurag'\n"
      ]
    },
    {
      "cell_type": "markdown",
      "source": [
        "Valid starts with letters or underscore\n",
        "Inavid starts with number or character"
      ],
      "metadata": {
        "id": "FdkyAZEmyOGT"
      }
    },
    {
      "cell_type": "markdown",
      "source": [
        "1. Standard Data Type\n",
        "  1. Numbers\n",
        "    1. Integer\n",
        "    2. Float\n",
        "    3. Complex\n",
        "  2. Boolean\n",
        "  3. String\n",
        "2. Data Structure Data Type\n",
        "  1. List\n",
        "  2. Tuple\n",
        "  3. Set\n",
        "  4. Dictionary\n",
        "  "
      ],
      "metadata": {
        "id": "UJXXP1NOwXsk"
      }
    },
    {
      "cell_type": "code",
      "source": [
        "#integer: Any whole number +ve or -ve\n",
        "int1=1995\n",
        "int2=-1995\n",
        "print(int1)\n",
        "print(type(int1))\n",
        "print(int2)\n",
        "print(type(int2))"
      ],
      "metadata": {
        "colab": {
          "base_uri": "https://localhost:8080/"
        },
        "id": "t_tr6YvqAnly",
        "outputId": "0c40caf6-2572-4908-93e6-3114f48a0d55"
      },
      "execution_count": null,
      "outputs": [
        {
          "output_type": "stream",
          "name": "stdout",
          "text": [
            "1995\n",
            "<class 'int'>\n",
            "-1995\n",
            "<class 'int'>\n"
          ]
        }
      ]
    },
    {
      "cell_type": "code",
      "source": [
        "#float: Any combination of whole number and fractional number +ve or -ve\n",
        "flt1=3.1415\n",
        "print(flt1)\n",
        "print(type(flt1))\n",
        "flt2= -3.1415\n",
        "print(flt2)\n",
        "print(type(flt2))"
      ],
      "metadata": {
        "colab": {
          "base_uri": "https://localhost:8080/"
        },
        "id": "ipBVddJExemN",
        "outputId": "c412a4aa-4508-44db-f282-92becfd58ebd"
      },
      "execution_count": null,
      "outputs": [
        {
          "output_type": "stream",
          "name": "stdout",
          "text": [
            "3.1415\n",
            "<class 'float'>\n",
            "-3.1415\n",
            "<class 'float'>\n"
          ]
        }
      ]
    },
    {
      "cell_type": "code",
      "source": [
        "#Complex: Combination of Real (Integer or float) and Imaginary number\n",
        "cmplx1= 2 + 3j\n",
        "print(cmplx1)\n",
        "print(type(cmplx1))\n"
      ],
      "metadata": {
        "colab": {
          "base_uri": "https://localhost:8080/"
        },
        "id": "1uaSIeXhxxm6",
        "outputId": "a7f60ba7-a53d-4330-f0cc-0f04f4211240"
      },
      "execution_count": null,
      "outputs": [
        {
          "output_type": "stream",
          "name": "stdout",
          "text": [
            "(2+3j)\n",
            "<class 'complex'>\n"
          ]
        }
      ]
    },
    {
      "cell_type": "code",
      "source": [
        "#Boolean: True- 1 and False-0\n",
        "bool1=True\n",
        "print(bool1)\n",
        "print(type(bool1))\n",
        "\n",
        "bool1=False\n",
        "print(bool1)\n",
        "print(type(bool1))"
      ],
      "metadata": {
        "colab": {
          "base_uri": "https://localhost:8080/"
        },
        "id": "VMTudGuFyhuU",
        "outputId": "842c2bd6-d137-4ae4-d2bf-ee026209c68d"
      },
      "execution_count": null,
      "outputs": [
        {
          "output_type": "stream",
          "name": "stdout",
          "text": [
            "True\n",
            "<class 'bool'>\n",
            "False\n",
            "<class 'bool'>\n"
          ]
        }
      ]
    },
    {
      "cell_type": "code",
      "source": [
        "#String:  Any combination inside single or double quotes or triple single quotes or tiple double quotes\n",
        "str1= 'pyhton'\n",
        "print(str1)\n",
        "print(type(str1))\n",
        "str2= \"python\"\n",
        "print(str2)\n",
        "print(type(str2))\n",
        "str1= ''' python'''\n",
        "print(str1)\n",
        "print(type(str1))\n",
        "str2= \"\"\" python \"\"\"\n",
        "print(str2)\n",
        "print(type(str2))\n",
        "str2= \"\"\" python \"\"\"\n",
        "print(str2)\n",
        "print(type(str2))\n",
        "\n"
      ],
      "metadata": {
        "colab": {
          "base_uri": "https://localhost:8080/"
        },
        "id": "WD-uno-RzBBQ",
        "outputId": "db50de27-6e48-49f6-f328-ba52a874b32c"
      },
      "execution_count": null,
      "outputs": [
        {
          "output_type": "stream",
          "name": "stdout",
          "text": [
            "pyhton\n",
            "<class 'str'>\n",
            "python\n",
            "<class 'str'>\n",
            " python\n",
            "<class 'str'>\n",
            " python \n",
            "<class 'str'>\n",
            " python \n",
            "<class 'str'>\n"
          ]
        }
      ]
    },
    {
      "cell_type": "code",
      "source": [
        "str1= \"\"\"My name is \"Nahian\". I live in 'PCB'\"\"\"\n",
        "print(str1)\n",
        "print(type(str1))\n",
        "\n"
      ],
      "metadata": {
        "colab": {
          "base_uri": "https://localhost:8080/"
        },
        "id": "yMUygXXtz6Cj",
        "outputId": "d3c3ca67-4252-4e4d-e32b-8c8bc157335a"
      },
      "execution_count": null,
      "outputs": [
        {
          "output_type": "stream",
          "name": "stdout",
          "text": [
            "My name is \"Nahian\". I live in 'PCB'\n",
            "<class 'str'>\n"
          ]
        }
      ]
    },
    {
      "cell_type": "code",
      "source": [
        "#List\n",
        "#1. List is represented by square brackets []\n",
        "#2. List is mutable (can be changed)\n",
        "\n",
        "\n",
        "lst1=[1,2,3,4,5,0]\n",
        "\n",
        "print(lst1)\n",
        "print(type(lst1))\n"
      ],
      "metadata": {
        "colab": {
          "base_uri": "https://localhost:8080/"
        },
        "id": "0IC2PF362exb",
        "outputId": "c8ac07ee-ac4b-418b-cbc1-bb2ecdc07e9f"
      },
      "execution_count": null,
      "outputs": [
        {
          "output_type": "stream",
          "name": "stdout",
          "text": [
            "[1, 2, 3, 4, 5, 0]\n",
            "<class 'list'>\n"
          ]
        }
      ]
    },
    {
      "cell_type": "code",
      "source": [
        "#Tuple\n",
        "#1. Tuple is represented by circular brackets ()\n",
        "#2. Tuple is immutable (can not be changed)\n",
        "\n",
        "tup1= (1,3,4,3,0)\n",
        "print(tup1)\n",
        "print(type(tup1))"
      ],
      "metadata": {
        "colab": {
          "base_uri": "https://localhost:8080/"
        },
        "id": "ZgrVBaoG5S65",
        "outputId": "63e0d5f8-5404-45a8-bb3f-7e5d4bd84226"
      },
      "execution_count": null,
      "outputs": [
        {
          "output_type": "stream",
          "name": "stdout",
          "text": [
            "(1, 3, 4, 3, 0)\n",
            "<class 'tuple'>\n"
          ]
        }
      ]
    },
    {
      "cell_type": "code",
      "source": [
        "#Set\n",
        "#1. Set is combination of unique values\n",
        "#2. Set is collection of unordered element\n",
        "#3. Set is represented by curly brackets\n",
        "#4. Set is mutable\n",
        "\n",
        "set1 = {1,2,3,'a','n','k'}\n",
        "print(set1)\n",
        "set2= {1,2,3,3,'a','n','k','k'}\n",
        "print(set1)\n",
        "print(type(set1))\n",
        "print(type(set2))"
      ],
      "metadata": {
        "colab": {
          "base_uri": "https://localhost:8080/"
        },
        "id": "Svlys2725zYD",
        "outputId": "b0eea368-5273-44f0-da20-5a1bdd0cf14a"
      },
      "execution_count": null,
      "outputs": [
        {
          "output_type": "stream",
          "name": "stdout",
          "text": [
            "{'a', 1, 2, 3, 'n', 'k'}\n",
            "{'a', 1, 2, 3, 'n', 'k'}\n",
            "<class 'set'>\n",
            "<class 'set'>\n"
          ]
        }
      ]
    },
    {
      "cell_type": "code",
      "source": [
        "lst1= [\"nahian\", \"anurag\",1,-4,7, 2+3j , 1, \"NAHIAN\", 2+3j]\n",
        "lst2=[2, 4, -6, 2+3j, \"barbie\", \"oppenheimer\", -4, -6  ]\n",
        "\n",
        "print(lst1)\n",
        "print(type(lst1))\n",
        "print(lst2)\n",
        "print(type(lst2))\n",
        "\n",
        "tup1= (\"nahian\", \"anurag\",1,-4,7, 2+3j , 1, \"NAHIAN\", 2+3j)\n",
        "tup2= (2, 4, -6, 2+3j, \"barbie\", \"oppenheimer\", -4, -6 )\n",
        "print(tup1)\n",
        "print(type(tup1))\n",
        "print(tup2)\n",
        "print(type(tup2))\n",
        "\n",
        "set1={2, 4, -6, 2+3j, \"barbie\", \"oppenheimer\", -4, -6 }\n",
        "set2= {\"nahian\", \"anurag\",1,-4,7, 2+3j , 1, \"NAHIAN\", 2+3j}\n",
        "\n",
        "print(set1)\n",
        "print(set2)\n",
        "print(type(set1))\n",
        "print(type(set2))"
      ],
      "metadata": {
        "colab": {
          "base_uri": "https://localhost:8080/"
        },
        "id": "pq8E6s_N64Zy",
        "outputId": "452bc432-6372-4cb5-838f-ca9cd09163fa"
      },
      "execution_count": null,
      "outputs": [
        {
          "output_type": "stream",
          "name": "stdout",
          "text": [
            "['nahian', 'anurag', 1, -4, 7, (2+3j), 1, 'NAHIAN', (2+3j)]\n",
            "<class 'list'>\n",
            "[2, 4, -6, (2+3j), 'barbie', 'oppenheimer', -4, -6]\n",
            "<class 'list'>\n",
            "('nahian', 'anurag', 1, -4, 7, (2+3j), 1, 'NAHIAN', (2+3j))\n",
            "<class 'tuple'>\n",
            "(2, 4, -6, (2+3j), 'barbie', 'oppenheimer', -4, -6)\n",
            "<class 'tuple'>\n",
            "{2, 4, 'oppenheimer', -6, (2+3j), 'barbie', -4}\n",
            "{1, 'nahian', 'anurag', 7, 'NAHIAN', (2+3j), -4}\n",
            "<class 'set'>\n",
            "<class 'set'>\n"
          ]
        }
      ]
    },
    {
      "cell_type": "code",
      "source": [
        "#Dictionary\n",
        "dic1={'a':'apple',\n",
        "      'b':'banana',\n",
        "      'c': 'cherry'}\n",
        "print(dic1)\n",
        "print(type(dic1))"
      ],
      "metadata": {
        "colab": {
          "base_uri": "https://localhost:8080/"
        },
        "id": "eyqZscgB8yXZ",
        "outputId": "63634cd3-878b-4fe2-9be2-cfd2ac0d26a1"
      },
      "execution_count": null,
      "outputs": [
        {
          "output_type": "stream",
          "name": "stdout",
          "text": [
            "{'a': 'apple', 'b': 'banana', 'c': 'cherry'}\n",
            "<class 'dict'>\n"
          ]
        }
      ]
    },
    {
      "cell_type": "code",
      "source": [
        "dic1={'a':[\"nahian\", \"anurag\",1,-4,7, 2+3j , 1, \"NAHIAN\", 2+3j],\n",
        "      'b':(2, 4, -6, 2+3j, \"barbie\", \"oppenheimer\", -4, -6 ),\n",
        "      'c': {2, 4, -6, 2+3j, \"barbie\", \"oppenheimer\", -4, -6,\"nahian\", \"anurag\",1,-4,7, 2+3j , 1, \"NAHIAN\", 2+3j  }}\n",
        "print(dic1)\n",
        "print (type(dic1))"
      ],
      "metadata": {
        "colab": {
          "base_uri": "https://localhost:8080/"
        },
        "id": "f42jYmzp_0-n",
        "outputId": "6e03fe47-6de0-404f-a5b2-ba92fa57cdbe"
      },
      "execution_count": null,
      "outputs": [
        {
          "output_type": "stream",
          "name": "stdout",
          "text": [
            "{'a': ['nahian', 'anurag', 1, -4, 7, (2+3j), 1, 'NAHIAN', (2+3j)], 'b': (2, 4, -6, (2+3j), 'barbie', 'oppenheimer', -4, -6), 'c': {1, 2, 4, 'nahian', 7, 'NAHIAN', (2+3j), 'barbie', -4, 'anurag', -6, 'oppenheimer'}}\n",
            "<class 'dict'>\n"
          ]
        }
      ]
    },
    {
      "cell_type": "code",
      "source": [
        "str1= \"barbie x oppenheimer\"\n",
        "print(str1)\n",
        "print(type(str1))\n",
        "print(len(str1))\n",
        "\n",
        "print(str1[0])\n",
        "print(str1[1])\n",
        "print(str1[2])\n",
        "print(str1[3])\n",
        "print(str1[4])\n",
        "print(str1[5])\n",
        "print(str1[6])\n",
        "print(str1[7])\n",
        "print(str1[8])\n"
      ],
      "metadata": {
        "colab": {
          "base_uri": "https://localhost:8080/"
        },
        "id": "YfvEo6NOAefn",
        "outputId": "51143995-7a9c-44f2-8407-a9402742fa90"
      },
      "execution_count": null,
      "outputs": [
        {
          "output_type": "stream",
          "name": "stdout",
          "text": [
            "barbie x oppenheimer\n",
            "<class 'str'>\n",
            "20\n",
            "b\n",
            "a\n",
            "r\n",
            "b\n",
            "i\n",
            "e\n",
            " \n",
            "x\n",
            " \n"
          ]
        }
      ]
    },
    {
      "cell_type": "code",
      "source": [
        "# stringname[index : lenth: iteration]\n",
        "print (str1[0:6:1], str1[7:8:1], str1[9:20:1])\n",
        "\n",
        "#same as above\n",
        "str1[:6] , str1[7:8] , str1[9:]\n",
        "\n"
      ],
      "metadata": {
        "colab": {
          "base_uri": "https://localhost:8080/"
        },
        "id": "27QkD17hCLjp",
        "outputId": "4afb526b-13fa-4166-d1b7-721b44cb22b9"
      },
      "execution_count": null,
      "outputs": [
        {
          "output_type": "stream",
          "name": "stdout",
          "text": [
            "barbie x oppenheimer\n"
          ]
        },
        {
          "output_type": "execute_result",
          "data": {
            "text/plain": [
              "('barbie', 'x', 'oppenheimer')"
            ]
          },
          "metadata": {},
          "execution_count": 50
        }
      ]
    },
    {
      "cell_type": "code",
      "source": [
        "#For full length: str [::], str [0::], str [0:len(str):], str[::1]\n",
        "#For slicing:\n",
        "#str[index: length: skip value]\n",
        "\n",
        "str1 = \"NahianKabir147\"\n",
        "str1[0:6:1], str1[6:11:1], str1[11:14:1]"
      ],
      "metadata": {
        "colab": {
          "base_uri": "https://localhost:8080/"
        },
        "id": "ecElEYczJJSX",
        "outputId": "fccdb9b5-f550-40e8-eebb-b04976f57a89"
      },
      "execution_count": null,
      "outputs": [
        {
          "output_type": "execute_result",
          "data": {
            "text/plain": [
              "('Nahian', 'Kabir', '147')"
            ]
          },
          "metadata": {},
          "execution_count": 54
        }
      ]
    },
    {
      "cell_type": "code",
      "source": [],
      "metadata": {
        "id": "rPnqGVUREp3R"
      },
      "execution_count": null,
      "outputs": []
    }
  ]
}