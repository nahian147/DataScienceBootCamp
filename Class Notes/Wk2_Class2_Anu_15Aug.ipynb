{
  "nbformat": 4,
  "nbformat_minor": 0,
  "metadata": {
    "colab": {
      "provenance": []
    },
    "kernelspec": {
      "name": "python3",
      "display_name": "Python 3"
    },
    "language_info": {
      "name": "python"
    }
  },
  "cells": [
    {
      "cell_type": "code",
      "execution_count": null,
      "metadata": {
        "colab": {
          "base_uri": "https://localhost:8080/"
        },
        "id": "2w5HNCkxpgX8",
        "outputId": "eedd190e-3aa4-437a-c01c-7c5e8dd8ccb4"
      },
      "outputs": [
        {
          "output_type": "stream",
          "name": "stdout",
          "text": [
            "value of i 12\n",
            "value of i 23\n",
            "value of i 34\n",
            "value of i 34\n",
            "value of i 56\n",
            "value of i 67\n",
            "value of i 78\n",
            "value of i 89\n",
            "value of i 90\n",
            "value of i 21\n",
            "value of i 32\n",
            "value of i 43\n",
            "value of i 54\n",
            "value of i 65\n",
            "value of i 76\n",
            "value of i 87\n",
            "value of i 98\n",
            "value of i 9\n"
          ]
        }
      ],
      "source": [
        "lst1=[12,23,34,34,56,67,78,89,90,21,32,43,54,65,76,87,98,9]\n",
        "\n",
        "for i in lst1:\n",
        "  print('value of i', i)"
      ]
    },
    {
      "cell_type": "code",
      "source": [
        "tup1 = ('apple','banana','cherries','dates','eggplant','fig','grapes')\n",
        "\n",
        "for i in tup1:\n",
        "  print('value of i', i)"
      ],
      "metadata": {
        "colab": {
          "base_uri": "https://localhost:8080/"
        },
        "id": "LljFzREoqF8W",
        "outputId": "f2bd03ac-9f12-4105-92fd-6d42e5f69ac2"
      },
      "execution_count": null,
      "outputs": [
        {
          "output_type": "stream",
          "name": "stdout",
          "text": [
            "value of i apple\n",
            "value of i banana\n",
            "value of i cherries\n",
            "value of i dates\n",
            "value of i eggplant\n",
            "value of i fig\n",
            "value of i grapes\n"
          ]
        }
      ]
    },
    {
      "cell_type": "code",
      "source": [
        "set1={'apple','banana','cherries','dates','eggplant','fig','grapes'}\n",
        "\n",
        "#set is unordered\n",
        "for i in set1:\n",
        "  print('value of i', i)"
      ],
      "metadata": {
        "colab": {
          "base_uri": "https://localhost:8080/"
        },
        "id": "68XXdAKCqaxh",
        "outputId": "7e109168-cdb7-46dd-8dc2-6a9cddb2a419"
      },
      "execution_count": null,
      "outputs": [
        {
          "output_type": "stream",
          "name": "stdout",
          "text": [
            "value of i banana\n",
            "value of i grapes\n",
            "value of i eggplant\n",
            "value of i fig\n",
            "value of i cherries\n",
            "value of i dates\n",
            "value of i apple\n"
          ]
        }
      ]
    },
    {
      "cell_type": "code",
      "source": [
        "str1='Peppa prefers python programming'\n",
        "\n",
        "print(len(str1))\n",
        "\n",
        "for i in str1:\n",
        "  print('value of i', i)"
      ],
      "metadata": {
        "colab": {
          "base_uri": "https://localhost:8080/"
        },
        "id": "G2-sSiBdqtVR",
        "outputId": "97dad1f6-175d-43d3-98cd-007f0411b81e"
      },
      "execution_count": null,
      "outputs": [
        {
          "output_type": "stream",
          "name": "stdout",
          "text": [
            "32\n",
            "value of i P\n",
            "value of i e\n",
            "value of i p\n",
            "value of i p\n",
            "value of i a\n",
            "value of i  \n",
            "value of i p\n",
            "value of i r\n",
            "value of i e\n",
            "value of i f\n",
            "value of i e\n",
            "value of i r\n",
            "value of i s\n",
            "value of i  \n",
            "value of i p\n",
            "value of i y\n",
            "value of i t\n",
            "value of i h\n",
            "value of i o\n",
            "value of i n\n",
            "value of i  \n",
            "value of i p\n",
            "value of i r\n",
            "value of i o\n",
            "value of i g\n",
            "value of i r\n",
            "value of i a\n",
            "value of i m\n",
            "value of i m\n",
            "value of i i\n",
            "value of i n\n",
            "value of i g\n"
          ]
        }
      ]
    },
    {
      "cell_type": "code",
      "source": [
        "dic1={'a':'apple', 'b':'ball', 'c':'cat', 'd': 'doll'}\n",
        "\n",
        "#prints key of dictionary\n",
        "\n",
        "for i in dic1:\n",
        "  print('value of i', i)"
      ],
      "metadata": {
        "colab": {
          "base_uri": "https://localhost:8080/"
        },
        "id": "3Bu_ItcUrHqG",
        "outputId": "e405fd87-47f4-45e7-bc1d-381a056eedaf"
      },
      "execution_count": null,
      "outputs": [
        {
          "output_type": "stream",
          "name": "stdout",
          "text": [
            "value of i a\n",
            "value of i b\n",
            "value of i c\n",
            "value of i d\n"
          ]
        }
      ]
    },
    {
      "cell_type": "code",
      "source": [
        "#range\n",
        "\n",
        "\n",
        "for i in range(10):  # range 0-10\n",
        "  print('value of i', i)"
      ],
      "metadata": {
        "colab": {
          "base_uri": "https://localhost:8080/"
        },
        "id": "z3ClasGtrwQf",
        "outputId": "0e77f36f-7393-46bc-b08d-1dbde9b01f10"
      },
      "execution_count": null,
      "outputs": [
        {
          "output_type": "stream",
          "name": "stdout",
          "text": [
            "value of i 0\n",
            "value of i 1\n",
            "value of i 2\n",
            "value of i 3\n",
            "value of i 4\n",
            "value of i 5\n",
            "value of i 6\n",
            "value of i 7\n",
            "value of i 8\n",
            "value of i 9\n"
          ]
        }
      ]
    },
    {
      "cell_type": "code",
      "source": [
        "for i in range(0,10,1): # start:stop:step\n",
        "  print('value of i', i)\n"
      ],
      "metadata": {
        "colab": {
          "base_uri": "https://localhost:8080/"
        },
        "id": "LQXrybM-r9hc",
        "outputId": "a10d87da-87be-4f0c-98f7-f5cc29110bae"
      },
      "execution_count": null,
      "outputs": [
        {
          "output_type": "stream",
          "name": "stdout",
          "text": [
            "value of i 0\n",
            "value of i 1\n",
            "value of i 2\n",
            "value of i 3\n",
            "value of i 4\n",
            "value of i 5\n",
            "value of i 6\n",
            "value of i 7\n",
            "value of i 8\n",
            "value of i 9\n"
          ]
        }
      ]
    },
    {
      "cell_type": "code",
      "source": [
        "for i in range(0,56,3): # start:stop:step\n",
        "  print('value of i', i)\n"
      ],
      "metadata": {
        "colab": {
          "base_uri": "https://localhost:8080/"
        },
        "id": "CvxqN6MasUGH",
        "outputId": "ab9401c6-db5a-40c2-bc12-cd6a9104d1e3"
      },
      "execution_count": null,
      "outputs": [
        {
          "output_type": "stream",
          "name": "stdout",
          "text": [
            "value of i 0\n",
            "value of i 3\n",
            "value of i 6\n",
            "value of i 9\n",
            "value of i 12\n",
            "value of i 15\n",
            "value of i 18\n",
            "value of i 21\n",
            "value of i 24\n",
            "value of i 27\n",
            "value of i 30\n",
            "value of i 33\n",
            "value of i 36\n",
            "value of i 39\n",
            "value of i 42\n",
            "value of i 45\n",
            "value of i 48\n",
            "value of i 51\n",
            "value of i 54\n"
          ]
        }
      ]
    },
    {
      "cell_type": "code",
      "source": [
        "for i in range(10):\n",
        "  for j in range(10):\n",
        "    print('*', end='')  #default value of end is \\n, we can assign\n",
        "  print('\\r')"
      ],
      "metadata": {
        "colab": {
          "base_uri": "https://localhost:8080/"
        },
        "id": "nPa66T91sWyw",
        "outputId": "6bc4f9d2-f581-4d80-b66b-f734a908f3de"
      },
      "execution_count": null,
      "outputs": [
        {
          "output_type": "stream",
          "name": "stdout",
          "text": [
            "**********\r\n",
            "**********\r\n",
            "**********\r\n",
            "**********\r\n",
            "**********\r\n",
            "**********\r\n",
            "**********\r\n",
            "**********\r\n",
            "**********\r\n",
            "**********\r\n"
          ]
        }
      ]
    },
    {
      "cell_type": "code",
      "source": [
        "#printing 10x10 matrix\n",
        "#1-100\n",
        "\n",
        "c=0\n",
        "for i in range(10):\n",
        "  for j in range(10):\n",
        "    c+=1\n",
        "    print( c , end=' ')  #default value of end is \\n, we can assign\n",
        "\n",
        "\n",
        "  print('\\r')"
      ],
      "metadata": {
        "colab": {
          "base_uri": "https://localhost:8080/"
        },
        "id": "st37RFPwvvTZ",
        "outputId": "4847210a-b606-4b22-b880-aa0c8e98d3ff"
      },
      "execution_count": null,
      "outputs": [
        {
          "output_type": "stream",
          "name": "stdout",
          "text": [
            "1 2 3 4 5 6 7 8 9 10 \r\n",
            "11 12 13 14 15 16 17 18 19 20 \r\n",
            "21 22 23 24 25 26 27 28 29 30 \r\n",
            "31 32 33 34 35 36 37 38 39 40 \r\n",
            "41 42 43 44 45 46 47 48 49 50 \r\n",
            "51 52 53 54 55 56 57 58 59 60 \r\n",
            "61 62 63 64 65 66 67 68 69 70 \r\n",
            "71 72 73 74 75 76 77 78 79 80 \r\n",
            "81 82 83 84 85 86 87 88 89 90 \r\n",
            "91 92 93 94 95 96 97 98 99 100 \r\n"
          ]
        }
      ]
    },
    {
      "cell_type": "code",
      "source": [
        "#pyramid\n",
        "\n",
        "for i in range(10):\n",
        "  for j in range(0,10-i):  #spaces 10-1= 9 spaces\n",
        "    print(' ', end='')\n",
        "  for k in range(0,i+1):   #asterik 0+1= 1 asterik\n",
        "    print('*', end= ' ')\n",
        "  print('\\r')\n",
        "\n"
      ],
      "metadata": {
        "colab": {
          "base_uri": "https://localhost:8080/"
        },
        "id": "c9oO1T0GxLVt",
        "outputId": "f64fb0bf-5231-4e62-c6f2-d7c5449af940"
      },
      "execution_count": null,
      "outputs": [
        {
          "output_type": "stream",
          "name": "stdout",
          "text": [
            "          * \r\n",
            "         * * \r\n",
            "        * * * \r\n",
            "       * * * * \r\n",
            "      * * * * * \r\n",
            "     * * * * * * \r\n",
            "    * * * * * * * \r\n",
            "   * * * * * * * * \r\n",
            "  * * * * * * * * * \r\n",
            " * * * * * * * * * * \r\n"
          ]
        }
      ]
    },
    {
      "cell_type": "code",
      "source": [
        "\n",
        "for i in range(10):\n",
        "  for j in range(0,i+1):\n",
        "    print(' ', end='')\n",
        "  for k in range(0,10-i):\n",
        "    print('*', end= ' ')\n",
        "  print('\\r')"
      ],
      "metadata": {
        "colab": {
          "base_uri": "https://localhost:8080/"
        },
        "id": "AMeWus7Ez4Zq",
        "outputId": "86e1cf07-6f04-4afd-adee-5eea7ff09f32"
      },
      "execution_count": null,
      "outputs": [
        {
          "output_type": "stream",
          "name": "stdout",
          "text": [
            " * * * * * * * * * * \r\n",
            "  * * * * * * * * * \r\n",
            "   * * * * * * * * \r\n",
            "    * * * * * * * \r\n",
            "     * * * * * * \r\n",
            "      * * * * * \r\n",
            "       * * * * \r\n",
            "        * * * \r\n",
            "         * * \r\n",
            "          * \r\n"
          ]
        }
      ]
    },
    {
      "cell_type": "code",
      "source": [
        "for i in range(10):\n",
        "  for j in range(0,10-i):\n",
        "    print(' ', end='')\n",
        "  for k in range(0,i+1):\n",
        "    print('*', end= ' ')\n",
        "  print('\\r')\n",
        "\n",
        "\n",
        "for i in range(10):\n",
        "  for j in range(0,i+1):\n",
        "    print(' ', end='')\n",
        "  for k in range(0,10-i):\n",
        "    print('*', end= ' ')\n",
        "  print('\\r')"
      ],
      "metadata": {
        "colab": {
          "base_uri": "https://localhost:8080/"
        },
        "id": "K0S_cAqL0J5X",
        "outputId": "a18538b5-0af5-40e7-8594-7e7e9e5b3728"
      },
      "execution_count": null,
      "outputs": [
        {
          "output_type": "stream",
          "name": "stdout",
          "text": [
            "          * \r\n",
            "         * * \r\n",
            "        * * * \r\n",
            "       * * * * \r\n",
            "      * * * * * \r\n",
            "     * * * * * * \r\n",
            "    * * * * * * * \r\n",
            "   * * * * * * * * \r\n",
            "  * * * * * * * * * \r\n",
            " * * * * * * * * * * \r\n",
            " * * * * * * * * * * \r\n",
            "  * * * * * * * * * \r\n",
            "   * * * * * * * * \r\n",
            "    * * * * * * * \r\n",
            "     * * * * * * \r\n",
            "      * * * * * \r\n",
            "       * * * * \r\n",
            "        * * * \r\n",
            "         * * \r\n",
            "          * \r\n"
          ]
        }
      ]
    },
    {
      "cell_type": "code",
      "source": [
        "for i in range(5):\n",
        "  for j in range(0,5-i):\n",
        "    print(' ', end='')\n",
        "  for k in range(0,i+1):\n",
        "    print('*', end= ' ')\n",
        "  print('\\r')\n",
        "\n",
        "for i in range(6):\n",
        "  print('*', end=' ')\n",
        "print('\\r')\n",
        "\n",
        "for i in range(5):\n",
        "  for j in range(0,i+1):\n",
        "    print(' ', end='')\n",
        "  for k in range(0,5-i):\n",
        "    print('*', end= ' ')\n",
        "  print('\\r')"
      ],
      "metadata": {
        "colab": {
          "base_uri": "https://localhost:8080/"
        },
        "id": "KZboQBTQ0wRs",
        "outputId": "520891d0-d98b-4df8-e5fe-333bbd73ca61"
      },
      "execution_count": null,
      "outputs": [
        {
          "output_type": "stream",
          "name": "stdout",
          "text": [
            "     * \r\n",
            "    * * \r\n",
            "   * * * \r\n",
            "  * * * * \r\n",
            " * * * * * \r\n",
            "* * * * * * \r\n",
            " * * * * * \r\n",
            "  * * * * \r\n",
            "   * * * \r\n",
            "    * * \r\n",
            "     * \r\n"
          ]
        }
      ]
    },
    {
      "cell_type": "code",
      "source": [
        "\n",
        "for i in range(10):\n",
        "  for j in range(0,i+1):\n",
        "    print(' ', end='')\n",
        "  for k in range(0,10-i):\n",
        "    print('*', end= ' ')\n",
        "\n",
        "  print('\\r')\n",
        "\n",
        "for i in range(9):\n",
        "  for j in range(0,10-(i+1)):\n",
        "    print(' ', end='')\n",
        "  for k in range(0,i+2):\n",
        "    print('*', end= ' ')\n",
        "  print('\\r')\n",
        "\n"
      ],
      "metadata": {
        "colab": {
          "base_uri": "https://localhost:8080/"
        },
        "id": "MorHHSoh1FJj",
        "outputId": "f068e7f2-67ee-47a6-d3cd-60f1fbfba3ed"
      },
      "execution_count": null,
      "outputs": [
        {
          "output_type": "stream",
          "name": "stdout",
          "text": [
            " * * * * * * * * * * \r\n",
            "  * * * * * * * * * \r\n",
            "   * * * * * * * * \r\n",
            "    * * * * * * * \r\n",
            "     * * * * * * \r\n",
            "      * * * * * \r\n",
            "       * * * * \r\n",
            "        * * * \r\n",
            "         * * \r\n",
            "          * \r\n",
            "         * * \r\n",
            "        * * * \r\n",
            "       * * * * \r\n",
            "      * * * * * \r\n",
            "     * * * * * * \r\n",
            "    * * * * * * * \r\n",
            "   * * * * * * * * \r\n",
            "  * * * * * * * * * \r\n",
            " * * * * * * * * * * \r\n"
          ]
        }
      ]
    },
    {
      "cell_type": "code",
      "source": [
        "\n",
        "for i in range(5):\n",
        "  for j in range(0,i+1):\n",
        "    print(' ', end='')\n",
        "  for k in range(0,5-i):\n",
        "    print('*', end= ' ')\n",
        "\n",
        "  print('\\r')\n",
        "\n",
        "for i in range(4):\n",
        "  for j in range(0,5-(i+1)):\n",
        "    print(' ', end='')\n",
        "  for k in range(0,i+2):\n",
        "    print('*', end= ' ')\n",
        "  print('\\r')"
      ],
      "metadata": {
        "colab": {
          "base_uri": "https://localhost:8080/"
        },
        "id": "M26_pAUi2Vsh",
        "outputId": "a210294f-d6f7-469d-f695-dec7a7cc9403"
      },
      "execution_count": null,
      "outputs": [
        {
          "output_type": "stream",
          "name": "stdout",
          "text": [
            " * * * * * \r\n",
            "  * * * * \r\n",
            "   * * * \r\n",
            "    * * \r\n",
            "     * \r\n",
            "    * * \r\n",
            "   * * * \r\n",
            "  * * * * \r\n",
            " * * * * * \r\n"
          ]
        }
      ]
    },
    {
      "cell_type": "code",
      "source": [
        "#hollow triangle\n",
        "\n",
        "for i in range(10):\n",
        "    for j in range(10-i):\n",
        "        print(' ', end='')\n",
        "\n",
        "    for j in range(2*i+1):\n",
        "        if j==0 or j==2*i or i==10-1:\n",
        "            print('*',end='')\n",
        "        else:\n",
        "            print(' ', end='')\n",
        "    print()"
      ],
      "metadata": {
        "colab": {
          "base_uri": "https://localhost:8080/"
        },
        "id": "ZoCNgSCu2e5L",
        "outputId": "c24efc99-631e-4371-930a-9fa5077ce8e7"
      },
      "execution_count": null,
      "outputs": [
        {
          "output_type": "stream",
          "name": "stdout",
          "text": [
            "          *\n",
            "         * *\n",
            "        *   *\n",
            "       *     *\n",
            "      *       *\n",
            "     *         *\n",
            "    *           *\n",
            "   *             *\n",
            "  *               *\n",
            " *******************\n"
          ]
        }
      ]
    },
    {
      "cell_type": "code",
      "source": [],
      "metadata": {
        "id": "VaqQX-D89MEk"
      },
      "execution_count": null,
      "outputs": []
    }
  ]
}