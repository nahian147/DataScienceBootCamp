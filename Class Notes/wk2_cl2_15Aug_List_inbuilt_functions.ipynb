{
  "nbformat": 4,
  "nbformat_minor": 0,
  "metadata": {
    "colab": {
      "provenance": []
    },
    "kernelspec": {
      "name": "python3",
      "display_name": "Python 3"
    },
    "language_info": {
      "name": "python"
    }
  },
  "cells": [
    {
      "cell_type": "code",
      "execution_count": null,
      "metadata": {
        "colab": {
          "base_uri": "https://localhost:8080/"
        },
        "id": "2kccgxXtIEqA",
        "outputId": "1639a973-64b8-4b94-df6e-2756def35431"
      },
      "outputs": [
        {
          "output_type": "execute_result",
          "data": {
            "text/plain": [
              "['__add__',\n",
              " '__class__',\n",
              " '__class_getitem__',\n",
              " '__contains__',\n",
              " '__delattr__',\n",
              " '__delitem__',\n",
              " '__dir__',\n",
              " '__doc__',\n",
              " '__eq__',\n",
              " '__format__',\n",
              " '__ge__',\n",
              " '__getattribute__',\n",
              " '__getitem__',\n",
              " '__gt__',\n",
              " '__hash__',\n",
              " '__iadd__',\n",
              " '__imul__',\n",
              " '__init__',\n",
              " '__init_subclass__',\n",
              " '__iter__',\n",
              " '__le__',\n",
              " '__len__',\n",
              " '__lt__',\n",
              " '__mul__',\n",
              " '__ne__',\n",
              " '__new__',\n",
              " '__reduce__',\n",
              " '__reduce_ex__',\n",
              " '__repr__',\n",
              " '__reversed__',\n",
              " '__rmul__',\n",
              " '__setattr__',\n",
              " '__setitem__',\n",
              " '__sizeof__',\n",
              " '__str__',\n",
              " '__subclasshook__',\n",
              " 'append',\n",
              " 'clear',\n",
              " 'copy',\n",
              " 'count',\n",
              " 'extend',\n",
              " 'index',\n",
              " 'insert',\n",
              " 'pop',\n",
              " 'remove',\n",
              " 'reverse',\n",
              " 'sort']"
            ]
          },
          "metadata": {},
          "execution_count": 1
        }
      ],
      "source": [
        "a=[1,2,3,4,5,6]\n",
        "\n",
        "dir(a)"
      ]
    },
    {
      "cell_type": "code",
      "source": [
        "#append adds to the last of the list\n",
        "\n",
        "a=[1,2,3,4,5,6]\n",
        "print(\"Befor append\", a)\n",
        "\n",
        "a.append(10)\n",
        "print(\"aftr append\", a)\n"
      ],
      "metadata": {
        "colab": {
          "base_uri": "https://localhost:8080/"
        },
        "id": "huFTBfMMKYU3",
        "outputId": "dadd71ba-0c84-4082-c83e-e7276fd9f3f8"
      },
      "execution_count": null,
      "outputs": [
        {
          "output_type": "stream",
          "name": "stdout",
          "text": [
            "Befor append [1, 2, 3, 4, 5, 6]\n",
            "aftr append [1, 2, 3, 4, 5, 6, 10]\n"
          ]
        }
      ]
    },
    {
      "cell_type": "code",
      "source": [
        "#Clear removes all elements\n",
        "\n",
        "a=[1,2,3,4,5,6]\n",
        "print(\"Befor clear\", a)\n",
        "\n",
        "a.clear()\n",
        "print(\"aftr clear\", a)\n",
        "print(len(a))"
      ],
      "metadata": {
        "colab": {
          "base_uri": "https://localhost:8080/"
        },
        "id": "jIRyStvHKqow",
        "outputId": "ab5991d2-d82d-4cc2-ffef-4bee597f4d20"
      },
      "execution_count": null,
      "outputs": [
        {
          "output_type": "stream",
          "name": "stdout",
          "text": [
            "Befor clear [1, 2, 3, 4, 5, 6]\n",
            "aftr clear []\n",
            "0\n"
          ]
        }
      ]
    },
    {
      "cell_type": "code",
      "source": [
        "#copy copies element to the new list\n",
        "a= [1,2,3,4,5,6]\n",
        "\n",
        "b=a #b and a are same list\n",
        "\n",
        "c=a.copy() #copy copies element to the new list\n",
        "\n",
        "\n",
        "print(\"a \", a)\n",
        "\n",
        "print(\"b \", b)\n",
        "\n",
        "print(\"c \", c)\n",
        "\n",
        "\n",
        "a.append(23)\n",
        "\n",
        "print(\"a \", a)\n",
        "\n",
        "print(\"b \", b)\n",
        "\n",
        "print(\"c \", c)\n"
      ],
      "metadata": {
        "colab": {
          "base_uri": "https://localhost:8080/"
        },
        "id": "DcK7VAa-LSZ4",
        "outputId": "2f29b02a-cb87-4565-dacd-687ca1c9ae45"
      },
      "execution_count": null,
      "outputs": [
        {
          "output_type": "stream",
          "name": "stdout",
          "text": [
            "a  [1, 2, 3, 4, 5, 6]\n",
            "b  [1, 2, 3, 4, 5, 6]\n",
            "c  [1, 2, 3, 4, 5, 6]\n",
            "a  [1, 2, 3, 4, 5, 6, 23]\n",
            "b  [1, 2, 3, 4, 5, 6, 23]\n",
            "c  [1, 2, 3, 4, 5, 6]\n"
          ]
        }
      ]
    },
    {
      "cell_type": "code",
      "source": [
        "#counts the number of element passed\n",
        "a=[1,2,3,1,2,3,4,1,3,3,5]\n",
        "\n",
        "print(a.count(1))\n",
        "print(a.count(2))\n",
        "print(a.count(34))\n"
      ],
      "metadata": {
        "colab": {
          "base_uri": "https://localhost:8080/"
        },
        "id": "KP3rnjfdMDRY",
        "outputId": "66a2b86e-5a0f-453a-d169-b4aebf36876c"
      },
      "execution_count": null,
      "outputs": [
        {
          "output_type": "stream",
          "name": "stdout",
          "text": [
            "3\n",
            "2\n",
            "0\n"
          ]
        }
      ]
    },
    {
      "cell_type": "code",
      "source": [
        "#Extend function\n",
        "\n",
        "a=[1,2,3,4,5,6]\n",
        "\n",
        "a.append([8,9,0])\n",
        "\n",
        "print(\"append\", a) #append puts everything in the last spot\n",
        "\n",
        "\n",
        "a=[1,2,3,4,5,6]\n",
        "\n",
        "a.extend([8,9,0])\n",
        "\n",
        "print(\"append\", a) #extend adds as single element\n",
        "\n"
      ],
      "metadata": {
        "colab": {
          "base_uri": "https://localhost:8080/"
        },
        "id": "3Tv6ZfXVN7qg",
        "outputId": "5c842e78-4f9f-4489-989d-30550001c674"
      },
      "execution_count": null,
      "outputs": [
        {
          "output_type": "stream",
          "name": "stdout",
          "text": [
            "append [1, 2, 3, 4, 5, 6, [8, 9, 0]]\n",
            "append [1, 2, 3, 4, 5, 6, 8, 9, 0]\n"
          ]
        }
      ]
    },
    {
      "cell_type": "code",
      "source": [
        "a=[1,2,3,4,5,6]\n",
        "\n",
        "a.append([8,9,0])\n",
        "\n",
        "#print(\"append\", a)\n",
        "\n",
        "#print(a[6][1])\n",
        "\n",
        "print(a[6][::-1])\n",
        "\n"
      ],
      "metadata": {
        "colab": {
          "base_uri": "https://localhost:8080/"
        },
        "id": "ncrsWT3YOxHO",
        "outputId": "69bb1151-0f36-466a-b04c-49e239a68572"
      },
      "execution_count": null,
      "outputs": [
        {
          "output_type": "stream",
          "name": "stdout",
          "text": [
            "[0, 9, 8]\n"
          ]
        }
      ]
    },
    {
      "cell_type": "code",
      "source": [
        "#Index prints out the first index of the element passed\n",
        "\n",
        "a=[1,2,3,4,5,6,4]\n",
        "\n",
        "a.index(4)\n"
      ],
      "metadata": {
        "colab": {
          "base_uri": "https://localhost:8080/"
        },
        "id": "xR3U-U8jPa0Q",
        "outputId": "1708c9ba-79f9-4c8c-c256-a43e177bbc2a"
      },
      "execution_count": null,
      "outputs": [
        {
          "output_type": "execute_result",
          "data": {
            "text/plain": [
              "3"
            ]
          },
          "metadata": {},
          "execution_count": 35
        }
      ]
    },
    {
      "cell_type": "code",
      "source": [
        "#insert\n",
        "a=[1,2,3,4,5,6]\n",
        "a.insert(2,10)  #(index, value)\n",
        "\n",
        "print(a)"
      ],
      "metadata": {
        "colab": {
          "base_uri": "https://localhost:8080/"
        },
        "id": "h1BusMX8Uqgv",
        "outputId": "62329d7a-ceb3-47dd-8f4d-29cb26cb92da"
      },
      "execution_count": null,
      "outputs": [
        {
          "output_type": "stream",
          "name": "stdout",
          "text": [
            "[1, 2, 10, 3, 4, 5, 6]\n"
          ]
        }
      ]
    },
    {
      "cell_type": "code",
      "source": [
        "#pop\n",
        "a=[1,2,3,4,5,6,78]\n",
        "\n",
        "a.pop()\n",
        "\n",
        "print(a)\n",
        "\n",
        "a.pop(2) #can pass index to pop\n",
        "\n",
        "print(a)"
      ],
      "metadata": {
        "colab": {
          "base_uri": "https://localhost:8080/"
        },
        "id": "zUgm43GRVMp0",
        "outputId": "3512f8c4-d86b-4425-fd11-3a0a8b75404d"
      },
      "execution_count": null,
      "outputs": [
        {
          "output_type": "stream",
          "name": "stdout",
          "text": [
            "[1, 2, 3, 4, 5, 6]\n",
            "[1, 2, 4, 5, 6]\n"
          ]
        }
      ]
    },
    {
      "cell_type": "code",
      "source": [
        "#removes first vlaue found not all\n",
        "a=[1,3,2,4,6,7,2]\n",
        "\n",
        "a.remove(2)\n",
        "print(a)"
      ],
      "metadata": {
        "colab": {
          "base_uri": "https://localhost:8080/"
        },
        "id": "ANlPi4UdWFiX",
        "outputId": "a6fc6fbd-d907-4bba-f39f-8f05ff9190ab"
      },
      "execution_count": null,
      "outputs": [
        {
          "output_type": "stream",
          "name": "stdout",
          "text": [
            "[1, 3, 4, 6, 7, 2]\n"
          ]
        }
      ]
    },
    {
      "cell_type": "code",
      "source": [
        "a=[1,3,2,4,6,7,2]\n",
        "\n",
        "\n",
        "a.reverse()\n",
        "print(a)"
      ],
      "metadata": {
        "colab": {
          "base_uri": "https://localhost:8080/"
        },
        "id": "JytCKh5QWnBD",
        "outputId": "5871691d-c8ac-416b-f3f9-d20967378d45"
      },
      "execution_count": null,
      "outputs": [
        {
          "output_type": "stream",
          "name": "stdout",
          "text": [
            "[2, 7, 6, 4, 2, 3, 1]\n"
          ]
        }
      ]
    },
    {
      "cell_type": "code",
      "source": [
        "#sorting ascending\n",
        "\n",
        "a=[2,4,1,5,0]\n",
        "\n",
        "a.sort()\n",
        "print(a)\n",
        "\n",
        "#descending\n",
        "\n",
        "a.sort(reverse=True) #descending\n",
        "print(a)\n"
      ],
      "metadata": {
        "colab": {
          "base_uri": "https://localhost:8080/"
        },
        "id": "SV5qxZD1XJ6o",
        "outputId": "86702abf-d532-489e-bef8-2b70ddab2248"
      },
      "execution_count": null,
      "outputs": [
        {
          "output_type": "stream",
          "name": "stdout",
          "text": [
            "[0, 1, 2, 4, 5]\n",
            "[5, 4, 2, 1, 0]\n"
          ]
        }
      ]
    },
    {
      "cell_type": "code",
      "source": [
        "t=(1,2,32,3)\n",
        "\n",
        "dir(t)"
      ],
      "metadata": {
        "colab": {
          "base_uri": "https://localhost:8080/"
        },
        "id": "1nUMi33lY19X",
        "outputId": "9a4a6188-3c7b-43bf-c14d-ebc150d08a09"
      },
      "execution_count": null,
      "outputs": [
        {
          "output_type": "execute_result",
          "data": {
            "text/plain": [
              "['__add__',\n",
              " '__class__',\n",
              " '__class_getitem__',\n",
              " '__contains__',\n",
              " '__delattr__',\n",
              " '__dir__',\n",
              " '__doc__',\n",
              " '__eq__',\n",
              " '__format__',\n",
              " '__ge__',\n",
              " '__getattribute__',\n",
              " '__getitem__',\n",
              " '__getnewargs__',\n",
              " '__gt__',\n",
              " '__hash__',\n",
              " '__init__',\n",
              " '__init_subclass__',\n",
              " '__iter__',\n",
              " '__le__',\n",
              " '__len__',\n",
              " '__lt__',\n",
              " '__mul__',\n",
              " '__ne__',\n",
              " '__new__',\n",
              " '__reduce__',\n",
              " '__reduce_ex__',\n",
              " '__repr__',\n",
              " '__rmul__',\n",
              " '__setattr__',\n",
              " '__sizeof__',\n",
              " '__str__',\n",
              " '__subclasshook__',\n",
              " 'count',\n",
              " 'index']"
            ]
          },
          "metadata": {},
          "execution_count": 53
        }
      ]
    },
    {
      "cell_type": "code",
      "source": [
        "#counts how many times value present\n",
        "t=(1,2,32,3,2,2,2)\n",
        "print(t.count(2))\n",
        "#returns element in\n",
        "\n",
        "print(t.index(2))\n",
        "\n"
      ],
      "metadata": {
        "colab": {
          "base_uri": "https://localhost:8080/"
        },
        "id": "QVhVmKTUade9",
        "outputId": "aa74f54c-70ef-4220-cdb0-019272660f7f"
      },
      "execution_count": null,
      "outputs": [
        {
          "output_type": "stream",
          "name": "stdout",
          "text": [
            "4\n",
            "1\n"
          ]
        }
      ]
    },
    {
      "cell_type": "code",
      "source": [
        "\"\"\"\n",
        "Question 1) Remove all repeated elements from the list Given below using for loop.\n",
        "a=[1,2,3,4,5,11,1,2,6,1,8]\n",
        "\"\"\"\n",
        "\n",
        "a=[1,2,3,4,5,11,1,2,6,1,8]\n",
        "\n",
        "n= []\n",
        "\n",
        "for i in range(len(a)):\n",
        "  if a[i]==a[i]:\n",
        "    n.append(i)\n",
        "  else:\n",
        "\n",
        "\n",
        "print(n)\n"
      ],
      "metadata": {
        "colab": {
          "base_uri": "https://localhost:8080/",
          "height": 143
        },
        "id": "PTr13jWkaljs",
        "outputId": "e5a6a085-d042-4b26-8ac7-eccf9b44a7ad"
      },
      "execution_count": null,
      "outputs": [
        {
          "output_type": "error",
          "ename": "IndentationError",
          "evalue": "ignored",
          "traceback": [
            "\u001b[0;36m  File \u001b[0;32m\"<ipython-input-66-01bdbaa5157f>\"\u001b[0;36m, line \u001b[0;32m16\u001b[0m\n\u001b[0;31m    print(n)\u001b[0m\n\u001b[0m            ^\u001b[0m\n\u001b[0;31mIndentationError\u001b[0m\u001b[0;31m:\u001b[0m expected an indented block after 'else' statement on line 13\n"
          ]
        }
      ]
    },
    {
      "cell_type": "code",
      "source": [
        "#Prime number below 100\n",
        "\n",
        "\n",
        "for i in range(100):\n",
        "  for j in range(100)\n",
        "    if (i/j==1 or i/j== ){\n",
        "\n",
        "    }"
      ],
      "metadata": {
        "id": "KX7ctOBjcX6d"
      },
      "execution_count": null,
      "outputs": []
    }
  ]
}