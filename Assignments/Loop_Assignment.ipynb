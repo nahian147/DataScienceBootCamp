{
  "nbformat": 4,
  "nbformat_minor": 0,
  "metadata": {
    "colab": {
      "provenance": []
    },
    "kernelspec": {
      "name": "python3",
      "display_name": "Python 3"
    },
    "language_info": {
      "name": "python"
    }
  },
  "cells": [
    {
      "cell_type": "code",
      "execution_count": 1,
      "metadata": {
        "colab": {
          "base_uri": "https://localhost:8080/"
        },
        "id": "qxUy8WSSH10O",
        "outputId": "89f82f23-e0aa-4413-bed7-28e408221913"
      },
      "outputs": [
        {
          "output_type": "stream",
          "name": "stdout",
          "text": [
            "Enter the first number: 8\n",
            "Enter the second number: 9\n",
            "After swapping:\n",
            "First number: 9\n",
            "Second number: 8\n"
          ]
        }
      ],
      "source": [
        "\n",
        "#1) Swap two numbers using 3rd variable\n",
        "\n",
        "num1 = int(input(\"Enter the first number: \\n\"))\n",
        "num2 = int(input(\"Enter the second number: \\n\"))\n",
        "temp = num1\n",
        "num1 = num2\n",
        "num2 = temp\n",
        "\n",
        "print(\"First number:\", num1)\n",
        "print(\"Second number:\", num2)"
      ]
    },
    {
      "cell_type": "code",
      "source": [
        "#2) Swap two numbers without using 3rd variable\n",
        "\n",
        "num1 = int(input(\"Enter the first number: \\n\"))\n",
        "num2 = int(input(\"Enter the second number: \\n\"))\n",
        "\n",
        "num1, num2 = num2, num1\n",
        "\n",
        "print(\"First number:\", num1)\n",
        "print(\"Second number:\", num2)"
      ],
      "metadata": {
        "colab": {
          "base_uri": "https://localhost:8080/"
        },
        "id": "b8dse5JmIeK_",
        "outputId": "e5a84639-525f-4b98-90cd-70dcc6b4f136"
      },
      "execution_count": 2,
      "outputs": [
        {
          "output_type": "stream",
          "name": "stdout",
          "text": [
            "Enter the first number: 89\n",
            "Enter the second number: 98\n",
            "After swapping:\n",
            "First number: 98\n",
            "Second number: 89\n"
          ]
        }
      ]
    },
    {
      "cell_type": "code",
      "source": [
        "#3) Remove duplicate elements from a list without converting to tuple\n",
        "\n",
        "\n",
        "\n",
        "original_list = [1, 2, 2, 3, 4, 4, 5, 6, 6]\n",
        "\n",
        "\n",
        "unique_list = []\n",
        "\n",
        "for item in original_list:\n",
        "\n",
        "    if item not in unique_list:\n",
        "        unique_list.append(item)\n",
        "\n",
        "\n",
        "print(\"List with duplicates removed:\", unique_list)"
      ],
      "metadata": {
        "colab": {
          "base_uri": "https://localhost:8080/"
        },
        "id": "lENFetopIv3u",
        "outputId": "34f7c667-c22a-4047-88d1-32171f83cea9"
      },
      "execution_count": 4,
      "outputs": [
        {
          "output_type": "stream",
          "name": "stdout",
          "text": [
            "List with duplicates removed: [1, 2, 3, 4, 5, 6]\n"
          ]
        }
      ]
    },
    {
      "cell_type": "code",
      "source": [
        "\n",
        "#3) Write a program to find greatest common divisor (GCD) or highest common factor (HCF) of given two numbers\n",
        "\n",
        "import math\n",
        "\n",
        "\n",
        "num1 = int(input(\"Enter the first number: \"))\n",
        "num2 = int(input(\"Enter the second number: \"))\n",
        "\n",
        "\n",
        "gcd = math.gcd(num1, num2)\n",
        "\n",
        "print(f\"The GCD of {num1} and {num2} is {gcd}\")"
      ],
      "metadata": {
        "colab": {
          "base_uri": "https://localhost:8080/"
        },
        "id": "6NSPf3VYJPZ1",
        "outputId": "891df5e9-ab35-46c8-cbc8-4f65499d8ac6"
      },
      "execution_count": 5,
      "outputs": [
        {
          "output_type": "stream",
          "name": "stdout",
          "text": [
            "Enter the first number: 30\n",
            "Enter the second number: 40\n",
            "The GCD of 30 and 40 is 10\n"
          ]
        }
      ]
    },
    {
      "cell_type": "code",
      "source": [
        "\n",
        "#4)Write a loop to print following series\n",
        "#10, 20, 30,  …………………, 300\n",
        "\n",
        "for num in range(10, 301, 10):\n",
        "    print(num, end=\" \")"
      ],
      "metadata": {
        "colab": {
          "base_uri": "https://localhost:8080/"
        },
        "id": "_-PZKNr7Jvw1",
        "outputId": "74e5ccc5-bce3-4816-e737-199d89e6d5e5"
      },
      "execution_count": 25,
      "outputs": [
        {
          "output_type": "stream",
          "name": "stdout",
          "text": [
            "10 20 30 40 50 60 70 80 90 100 110 120 130 140 150 160 170 180 190 200 210 220 230 240 250 260 270 280 290 300 "
          ]
        }
      ]
    },
    {
      "cell_type": "code",
      "source": [
        "#5) Write a loop to print following series\n",
        "#105,98,91,………………………,7\n",
        "\n",
        "for num in range(105, 6, -7):\n",
        "    print(num, end=\" \")"
      ],
      "metadata": {
        "colab": {
          "base_uri": "https://localhost:8080/"
        },
        "id": "G-BnxTZKJ-lP",
        "outputId": "70aabb0e-074a-48ab-8100-e1bd2b06fe99"
      },
      "execution_count": 28,
      "outputs": [
        {
          "output_type": "stream",
          "name": "stdout",
          "text": [
            "105 98 91 84 77 70 63 56 49 42 35 28 21 14 7 "
          ]
        }
      ]
    },
    {
      "cell_type": "code",
      "source": [
        "#6) Write a program to print number names of digits in a number like\n",
        "#SAMPLE INPUT 231 \t\tSAMPLE OUTPUT TWO THREE ONE\n",
        "\n",
        "\n",
        "digit_names = {\n",
        "    '0': 'ZERO',\n",
        "    '1': 'ONE',\n",
        "    '2': 'TWO',\n",
        "    '3': 'THREE',\n",
        "    '4': 'FOUR',\n",
        "    '5': 'FIVE',\n",
        "    '6': 'SIX',\n",
        "    '7': 'SEVEN',\n",
        "    '8': 'EIGHT',\n",
        "    '9': 'NINE'\n",
        "}\n",
        "\n",
        "num_str = input(\"Enter a number: \")\n",
        "\n",
        "number_names = []\n",
        "\n",
        "for digit in num_str:\n",
        "    if digit in digit_names:\n",
        "        number_names.append(digit_names[digit])\n",
        "\n",
        "print(\"Number names:\", ' '.join(number_names))"
      ],
      "metadata": {
        "colab": {
          "base_uri": "https://localhost:8080/"
        },
        "id": "mZG4buXjKLsE",
        "outputId": "b2e7bb8b-f78d-431f-e0b0-50477dac421c"
      },
      "execution_count": 8,
      "outputs": [
        {
          "output_type": "stream",
          "name": "stdout",
          "text": [
            "Enter a number: 231\n",
            "Number names: TWO THREE ONE\n"
          ]
        }
      ]
    },
    {
      "cell_type": "code",
      "source": [
        "#7) Write a program to print Fibonacci series till n terms take n =50\n",
        "\n",
        "fibonacci_list=[0,1]\n",
        "number_of_terms=int(input(\"Number of terms :- \"))\n",
        "while len(fibonacci_list)<number_of_terms:\n",
        "  next_term=fibonacci_list[-1]+fibonacci_list[-2]\n",
        "  fibonacci_list.append(next_term)\n",
        "print(fibonacci_list)"
      ],
      "metadata": {
        "colab": {
          "base_uri": "https://localhost:8080/"
        },
        "id": "Ydk-1qhEKYfc",
        "outputId": "1828c6c0-8dee-4bc9-de14-e9871211b7dd"
      },
      "execution_count": 31,
      "outputs": [
        {
          "output_type": "stream",
          "name": "stdout",
          "text": [
            "Number of terms :- 50\n",
            "[0, 1, 1, 2, 3, 5, 8, 13, 21, 34, 55, 89, 144, 233, 377, 610, 987, 1597, 2584, 4181, 6765, 10946, 17711, 28657, 46368, 75025, 121393, 196418, 317811, 514229, 832040, 1346269, 2178309, 3524578, 5702887, 9227465, 14930352, 24157817, 39088169, 63245986, 102334155, 165580141, 267914296, 433494437, 701408733, 1134903170, 1836311903, 2971215073, 4807526976, 7778742049]\n"
          ]
        }
      ]
    },
    {
      "cell_type": "code",
      "source": [
        "#8) Write a program to print factorial of a number\n",
        "\n",
        "num=int(input(\"Please enter a number: \\n\"))\n",
        "factorial=1\n",
        "\n",
        "for k in range(1,num+1):\n",
        "  factorial=factorial*k\n",
        "\n",
        "print(factorial)"
      ],
      "metadata": {
        "colab": {
          "base_uri": "https://localhost:8080/"
        },
        "id": "WrpJDGY_Kloe",
        "outputId": "95d28e21-5a51-4136-b974-2a2589639176"
      },
      "execution_count": 32,
      "outputs": [
        {
          "output_type": "stream",
          "name": "stdout",
          "text": [
            "Please enter a number 6\n",
            "720\n"
          ]
        }
      ]
    },
    {
      "cell_type": "code",
      "source": [
        "#9) Write a program to check if a number is Armstrong or not\n",
        "\n",
        "\n",
        "num = int(input(\"Enter a number: \"))\n",
        "\n",
        "num_str = str(num)\n",
        "num_digits = len(num_str)\n",
        "\n",
        "sum_of_digits = 0\n",
        "\n",
        "for digit_char in num_str:\n",
        "    digit = int(digit_char)\n",
        "    sum_of_digits += digit ** num_digits\n",
        "\n",
        "if num == sum_of_digits:\n",
        "    print(f\"{num} is an Armstrong number.\")\n",
        "else:\n",
        "    print(f\"{num} is not an Armstrong number.\")\n"
      ],
      "metadata": {
        "colab": {
          "base_uri": "https://localhost:8080/"
        },
        "id": "k-luleO4KlYH",
        "outputId": "012cdd56-ac31-45f7-f909-663f3ae1e7bc"
      },
      "execution_count": 33,
      "outputs": [
        {
          "output_type": "stream",
          "name": "stdout",
          "text": [
            "Enter a number: 153\n",
            "153 is an Armstrong number.\n"
          ]
        }
      ]
    },
    {
      "cell_type": "code",
      "source": [
        "#10) Write a program to convert binary to decimal\n",
        "\n",
        "binary_str = input(\"Enter a binary number: \")\n",
        "\n",
        "decimal_num = int(binary_str, 2)\n",
        "\n",
        "print(\"Decimal representation:\", decimal_num)"
      ],
      "metadata": {
        "colab": {
          "base_uri": "https://localhost:8080/"
        },
        "id": "3xeQNOMnKpad",
        "outputId": "196b0802-2614-4553-92b6-beaa5b7e9057"
      },
      "execution_count": 34,
      "outputs": [
        {
          "output_type": "stream",
          "name": "stdout",
          "text": [
            "Enter a binary number: 101\n",
            "Decimal representation: 5\n"
          ]
        }
      ]
    },
    {
      "cell_type": "code",
      "source": [
        "#11) Write a program to convert decimal to binary\n",
        "\n",
        "decimal_num = int(input(\"Enter a decimal number: \"))\n",
        "\n",
        "\n",
        "binary_str = bin(decimal_num)[2:]\n",
        "\n",
        "\n",
        "print(\"Binary representation:\", binary_str)\n"
      ],
      "metadata": {
        "colab": {
          "base_uri": "https://localhost:8080/"
        },
        "id": "fvU79nNNKqnR",
        "outputId": "aadf8679-dac1-4a0c-89d5-4dbbc14adac2"
      },
      "execution_count": 35,
      "outputs": [
        {
          "output_type": "stream",
          "name": "stdout",
          "text": [
            "Enter a decimal number: 5\n",
            "Binary representation: 101\n"
          ]
        }
      ]
    },
    {
      "cell_type": "code",
      "source": [
        "#12) Write a program to check if number is palindrome on not (Without converting to string)\n",
        "\n",
        "num = int(input(\"Enter a number: \"))\n",
        "\n",
        "original_num = num\n",
        "\n",
        "reversed_num = 0\n",
        "\n",
        "\n",
        "while num > 0:\n",
        "    digit = num % 10  # Get the last digit\n",
        "    reversed_num = reversed_num * 10 + digit\n",
        "    num //= 10  # Remove the last digit\n",
        "\n",
        "if original_num == reversed_num:\n",
        "    print(\"The number is a palindrome.\")\n",
        "else:\n",
        "    print(\"The number is not a palindrome.\")\n"
      ],
      "metadata": {
        "colab": {
          "base_uri": "https://localhost:8080/"
        },
        "id": "oaHVBQ8-KsSp",
        "outputId": "4060126a-0008-40fe-980b-2acf907ea2cf"
      },
      "execution_count": 18,
      "outputs": [
        {
          "output_type": "stream",
          "name": "stdout",
          "text": [
            "Enter a number: 123321\n",
            "The number is a palindrome.\n"
          ]
        }
      ]
    },
    {
      "cell_type": "code",
      "source": [
        "#13) Write a program to print all numbers which are divisible by 13 but not by 3 between 100 and 500\n",
        "\n",
        "\n",
        "for num in range(100, 501):\n",
        "    if num % 13 == 0 and num % 3 != 0:\n",
        "        print(num, end=' ')"
      ],
      "metadata": {
        "colab": {
          "base_uri": "https://localhost:8080/"
        },
        "id": "KGCrrK_aKuFV",
        "outputId": "9930ddde-7bf1-489c-d46b-946ae25901f6"
      },
      "execution_count": 36,
      "outputs": [
        {
          "output_type": "stream",
          "name": "stdout",
          "text": [
            "104 130 143 169 182 208 221 247 260 286 299 325 338 364 377 403 416 442 455 481 494 "
          ]
        }
      ]
    },
    {
      "cell_type": "code",
      "source": [
        "#14) Write a Python program to convert temperatures to and from Celsius and Fahrenheit.\n",
        "\n",
        "def celsius_to_fahrenheit(celsius):\n",
        "    return (celsius * 9/5) + 32\n",
        "\n",
        "def fahrenheit_to_celsius(fahrenheit):\n",
        "    return (fahrenheit - 32) * 5/9\n",
        "\n",
        "temperature = float(input(\"Enter the temperature value: \"))\n",
        "unit = input(\"Enter the temperature unit (C for Celsius, F for Fahrenheit): \")\n",
        "\n",
        "if unit.upper() == \"C\":\n",
        "    fahrenheit = celsius_to_fahrenheit(temperature)\n",
        "    print(f\"{temperature}°C is equal to {fahrenheit}°F\")\n",
        "elif unit.upper() == \"F\":\n",
        "    celsius = fahrenheit_to_celsius(temperature)\n",
        "    print(f\"{temperature}°F is equal to {celsius}°C\")\n",
        "else:\n",
        "    print(\"Invalid temperature unit. Please enter 'C' for Celsius or 'F' for Fahrenheit.\")\n"
      ],
      "metadata": {
        "colab": {
          "base_uri": "https://localhost:8080/"
        },
        "id": "9QbKLj9MKvlb",
        "outputId": "d0390d16-471a-453b-82c8-daef28ec727e"
      },
      "execution_count": 15,
      "outputs": [
        {
          "output_type": "stream",
          "name": "stdout",
          "text": [
            "Enter the temperature value: 34\n",
            "Enter the temperature unit (C for Celsius, F for Fahrenheit): f\n",
            "34.0°F is equal to 1.1111111111111112°C\n"
          ]
        }
      ]
    },
    {
      "cell_type": "code",
      "source": [
        "#15) Write a Python program that takes two digits m (row) and n (column) as input\n",
        "#and generates a two-dimensional array. The element value in the i-th row and j-th column of the array should be i*j. else it will be 0\n",
        "\n",
        "\n",
        "m = int(input(\"Enter the number of rows (m): \"))\n",
        "n = int(input(\"Enter the number of columns (n): \"))\n",
        "\n",
        "two_dimensional_array = []\n",
        "\n",
        "for i in range(m):\n",
        "    row = []\n",
        "    for j in range(n):\n",
        "        if i * j == 0:\n",
        "            row.append(0)\n",
        "        else:\n",
        "            row.append(i * j)\n",
        "    two_dimensional_array.append(row)\n",
        "\n",
        "for row in two_dimensional_array:\n",
        "    print(row)"
      ],
      "metadata": {
        "colab": {
          "base_uri": "https://localhost:8080/"
        },
        "id": "RmvPUo7NKxbz",
        "outputId": "d3acb958-e210-4241-e146-1295048bae7b"
      },
      "execution_count": 14,
      "outputs": [
        {
          "output_type": "stream",
          "name": "stdout",
          "text": [
            "Enter the number of rows (m): 4\n",
            "Enter the number of columns (n): 5\n",
            "[0, 0, 0, 0, 0]\n",
            "[0, 1, 2, 3, 4]\n",
            "[0, 2, 4, 6, 8]\n",
            "[0, 3, 6, 9, 12]\n"
          ]
        }
      ]
    },
    {
      "cell_type": "code",
      "source": [
        "'''16. Write a Python program that accepts a string and calculates the number of digits and letters.\n",
        "Sample Data: Python 3.2\n",
        "Expected Output:\n",
        "Letters 6\n",
        "Digits 2'''\n",
        "\n",
        "\n",
        "input_string = input(\"Enter a string: \")\n",
        "\n",
        "\n",
        "letter_count = 0\n",
        "digit_count = 0\n",
        "\n",
        "\n",
        "for char in input_string:\n",
        "\n",
        "    if char.isalpha():\n",
        "        letter_count += 1\n",
        "\n",
        "    elif char.isdigit():\n",
        "        digit_count += 1\n",
        "\n",
        "\n",
        "print(\"# of Letters:\", letter_count)\n",
        "print(\"# of Digits:\", digit_count)\n"
      ],
      "metadata": {
        "colab": {
          "base_uri": "https://localhost:8080/"
        },
        "id": "J5CTxd6OK4JK",
        "outputId": "00d80335-e203-4f13-f7b9-200fd5ba91d9"
      },
      "execution_count": 37,
      "outputs": [
        {
          "output_type": "stream",
          "name": "stdout",
          "text": [
            "Enter a string: 123gh56\n",
            "# of Letters: 2\n",
            "# of Digits: 5\n"
          ]
        }
      ]
    },
    {
      "cell_type": "code",
      "source": [
        "#18) Write a Python program to check if a triangle is equilateral, isosceles or scalene. Take 3 inputs for each side\n",
        "\n",
        "\n",
        "side1 = float(input(\"Enter the length of the first side: \"))\n",
        "side2 = float(input(\"Enter the length of the second side: \"))\n",
        "side3 = float(input(\"Enter the length of the third side: \"))\n",
        "\n",
        "\n",
        "if side1 + side2 > side3 and side1 + side3 > side2 and side2 + side3 > side1:\n",
        "\n",
        "    if side1 == side2 == side3:\n",
        "        triangle_type = \"equilateral\"\n",
        "\n",
        "    elif side1 == side2 or side1 == side3 or side2 == side3:\n",
        "        triangle_type = \"isosceles\"\n",
        "\n",
        "    else:\n",
        "        triangle_type = \"scalene\"\n",
        "\n",
        "\n",
        "    print(f\"The given triangle is {triangle_type}.\")\n",
        "else:\n",
        "    print(\"It's not a valid triangle.\")"
      ],
      "metadata": {
        "colab": {
          "base_uri": "https://localhost:8080/"
        },
        "id": "oD3qIgkEK6vW",
        "outputId": "8c56a03d-f229-498e-a2ea-5397f5a50451"
      },
      "execution_count": 38,
      "outputs": [
        {
          "output_type": "stream",
          "name": "stdout",
          "text": [
            "Enter the length of the first side: 5\n",
            "Enter the length of the second side: 5\n",
            "Enter the length of the third side: 5\n",
            "The given triangle is equilateral.\n"
          ]
        }
      ]
    },
    {
      "cell_type": "code",
      "source": [
        "'''19) Write a Python program to get the next day of a given date.\n",
        "Expected Output:\n",
        "Input a year: 2016\n",
        "Input a month [1-12]: 08\n",
        "Input a day [1-31]: 23\n",
        "The next date is [yyyy-mm-dd] 2016-8-24\n",
        "'''\n",
        "\n",
        "import numpy as np\n",
        "import pandas as pd\n",
        "\n",
        "\n",
        "year = int(input(\"Input a year: \"))\n",
        "month = int(input(\"Input a month [1-12]: \"))\n",
        "day = int(input(\"Input a day [1-31], except for month 2: \"))\n",
        "\n",
        "date_df = pd.DataFrame({'year': [year], 'month': [month], 'day': [day]})\n",
        "\n",
        "\n",
        "date_series = pd.to_datetime(date_df)\n",
        "\n",
        "next_date_series = date_series + pd.DateOffset(days=1)\n",
        "\n",
        "\n",
        "next_year = next_date_series.dt.year.values[0]\n",
        "next_month = next_date_series.dt.month.values[0]\n",
        "next_day = next_date_series.dt.day.values[0]\n",
        "\n",
        "print(f\"The next date is [yyyy-mm-dd] {next_year}-{next_month}-{next_day}\")\n"
      ],
      "metadata": {
        "colab": {
          "base_uri": "https://localhost:8080/"
        },
        "id": "3QVS3ByFK-4T",
        "outputId": "e722876e-4471-447c-9a29-429f7633991f"
      },
      "execution_count": 40,
      "outputs": [
        {
          "output_type": "stream",
          "name": "stdout",
          "text": [
            "Input a year: 2024\n",
            "Input a month [1-12]: 2\n",
            "Input a day [1-31]: 29\n",
            "The next date is [yyyy-mm-dd] 2024-3-1\n"
          ]
        }
      ]
    },
    {
      "cell_type": "code",
      "source": [],
      "metadata": {
        "id": "u28RC8S0LZul"
      },
      "execution_count": null,
      "outputs": []
    }
  ]
}