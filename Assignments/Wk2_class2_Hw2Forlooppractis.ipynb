{
  "nbformat": 4,
  "nbformat_minor": 0,
  "metadata": {
    "colab": {
      "provenance": []
    },
    "kernelspec": {
      "name": "python3",
      "display_name": "Python 3"
    },
    "language_info": {
      "name": "python"
    }
  },
  "cells": [
    {
      "cell_type": "code",
      "execution_count": null,
      "metadata": {
        "id": "PKaww80-w6jy"
      },
      "outputs": [],
      "source": [
        "\"\"\"\n",
        "\n",
        "Question 1) Remove all repeated elements from the list Given below using for loop.\n",
        "\n",
        "a=[1,2,3,4,5,11,1,2,6,1,8]\n",
        "\n",
        "Question 2) Print all prime numbers below 100\n",
        "\n",
        "Question 3) print list in reverse order using for loop\n",
        "\n",
        "Question 4)  print multiplication table of 13 using for loop\n",
        "\n",
        "\"\"\""
      ]
    },
    {
      "cell_type": "code",
      "source": [
        "#1\n",
        "#my solution1\n",
        "i=0\n",
        "a=[1,2,3,4,5,11,1,2,6,1,8,132,132,45]\n",
        "set1={a[i]}\n",
        "\n",
        "for i in range(len(a)):\n",
        "  set1.add(a[i])\n",
        "\n",
        "print(set1)\n",
        "\n",
        "#my solution without for loop\n",
        "\n",
        "print(set(a))\n",
        "\n"
      ],
      "metadata": {
        "id": "_CTErOejyiDW",
        "colab": {
          "base_uri": "https://localhost:8080/"
        },
        "outputId": "11a0aa3d-de34-4bae-98a5-dfc7faaa366d"
      },
      "execution_count": null,
      "outputs": [
        {
          "output_type": "stream",
          "name": "stdout",
          "text": [
            "{1, 2, 3, 4, 5, 6, 132, 8, 11, 45}\n",
            "{1, 2, 3, 4, 5, 6, 132, 8, 11, 45}\n"
          ]
        }
      ]
    },
    {
      "cell_type": "code",
      "source": [
        "#1\n",
        "#Rohit's solution\n",
        "\n",
        "a=[1,2,3,4,5,11,1,2,6,1,8,132,132,45]\n",
        "\n",
        "unique_list=[]\n",
        "for k in a:\n",
        "  if k in unique_list:\n",
        "    print(\"Repeated value:\", k)\n",
        "  else:\n",
        "    unique_list.append(k)\n",
        "print(unique_list)\n",
        "\n",
        "\n"
      ],
      "metadata": {
        "colab": {
          "base_uri": "https://localhost:8080/"
        },
        "id": "2lAvNWOeWyXc",
        "outputId": "b11dd120-eb67-464b-c99d-839736c2c1e9"
      },
      "execution_count": null,
      "outputs": [
        {
          "output_type": "stream",
          "name": "stdout",
          "text": [
            "Repeated value: 1\n",
            "Repeated value: 2\n",
            "Repeated value: 1\n",
            "Repeated value: 132\n",
            "[1, 2, 3, 4, 5, 11, 6, 8, 132, 45]\n"
          ]
        }
      ]
    },
    {
      "cell_type": "code",
      "source": [
        "#2 PRIME\n",
        "\n",
        "primelist=[]\n",
        "\n",
        "for k in range(2,100):\n",
        "  flag=True\n",
        "  for s in range(2,k):\n",
        "    if k%s==0:\n",
        "      flag=False\n",
        "      break\n",
        "  if flag:\n",
        "    primelist.append(k)\n",
        "\n",
        "for p in primelist:\n",
        "  print(p, \"is a prime number\")\n",
        "\n",
        "\n",
        "#print(primelist)\n"
      ],
      "metadata": {
        "colab": {
          "base_uri": "https://localhost:8080/"
        },
        "id": "-hLLC43DXsPt",
        "outputId": "9727e60c-7275-4d67-e8ff-927a212725e6"
      },
      "execution_count": null,
      "outputs": [
        {
          "output_type": "stream",
          "name": "stdout",
          "text": [
            "2 is a prime number\n",
            "3 is a prime number\n",
            "5 is a prime number\n",
            "7 is a prime number\n",
            "11 is a prime number\n",
            "13 is a prime number\n",
            "17 is a prime number\n",
            "19 is a prime number\n",
            "23 is a prime number\n",
            "29 is a prime number\n",
            "31 is a prime number\n",
            "37 is a prime number\n",
            "41 is a prime number\n",
            "43 is a prime number\n",
            "47 is a prime number\n",
            "53 is a prime number\n",
            "59 is a prime number\n",
            "61 is a prime number\n",
            "67 is a prime number\n",
            "71 is a prime number\n",
            "73 is a prime number\n",
            "79 is a prime number\n",
            "83 is a prime number\n",
            "89 is a prime number\n",
            "97 is a prime number\n"
          ]
        }
      ]
    },
    {
      "cell_type": "code",
      "source": [
        "#3\n",
        "#reverse\n",
        "a= [1,2,3,4,5,6,7,8,9,0]\n",
        "for i in range(len(a)):\n",
        "  c=a[len(a)-(i+1)]\n",
        "  print(\"\", c, end=' ')\n",
        "\n"
      ],
      "metadata": {
        "colab": {
          "base_uri": "https://localhost:8080/"
        },
        "id": "ePgXmj8Mx25e",
        "outputId": "fd83a0f6-55f0-4ebd-9d92-814e51142b6f"
      },
      "execution_count": null,
      "outputs": [
        {
          "output_type": "stream",
          "name": "stdout",
          "text": [
            " 0  9  8  7  6  5  4  3  2  1 "
          ]
        }
      ]
    },
    {
      "cell_type": "code",
      "source": [
        "#4\n",
        "#Times table of 13\n",
        "\n",
        "for i in range(13):\n",
        "  c= i*13\n",
        "  print(\"13 x\",i, \"is\", c)\n",
        "\n"
      ],
      "metadata": {
        "colab": {
          "base_uri": "https://localhost:8080/"
        },
        "id": "rWBtI7KpxURu",
        "outputId": "b6587581-4810-452b-8b03-dd9bfe3d3abe"
      },
      "execution_count": null,
      "outputs": [
        {
          "output_type": "stream",
          "name": "stdout",
          "text": [
            "13 x 0 is 0\n",
            "13 x 1 is 13\n",
            "13 x 2 is 26\n",
            "13 x 3 is 39\n",
            "13 x 4 is 52\n",
            "13 x 5 is 65\n",
            "13 x 6 is 78\n",
            "13 x 7 is 91\n",
            "13 x 8 is 104\n",
            "13 x 9 is 117\n",
            "13 x 10 is 130\n",
            "13 x 11 is 143\n",
            "13 x 12 is 156\n"
          ]
        }
      ]
    },
    {
      "cell_type": "code",
      "source": [
        "#Python program to count the total number of digits in a number.\n",
        "\n",
        "c=0\n",
        "number=input(\"Please enter your number: \\n\")\n",
        "\n",
        "for i in number:\n",
        "  c+=1\n",
        "\n",
        "print(\"# of digit in your number\", c)\n"
      ],
      "metadata": {
        "id": "hCklJbzixiAS",
        "colab": {
          "base_uri": "https://localhost:8080/"
        },
        "outputId": "dc01b296-5655-49fa-d63f-ea22793d01f6"
      },
      "execution_count": null,
      "outputs": [
        {
          "output_type": "stream",
          "name": "stdout",
          "text": [
            "Please enter your number: \n",
            "12345\n",
            "# of digit in your number 5\n"
          ]
        }
      ]
    },
    {
      "cell_type": "code",
      "source": [
        "#Write a program to find greatest common divisor (GCD) or highest common factor (HCF) of given two numbers\n",
        "\n",
        "\n",
        "a=int(input(\"Enter num1: \\n\"))\n",
        "b=int(input(\"Enter num2: \\n\"))\n",
        "\n",
        "minimum=min(a,b)\n",
        "\n",
        "for k in range(minimum,-1,-1):\n",
        "  if a%k==0 and b%k==0:\n",
        "    print(\"HCM is\", k)\n",
        "    break\n",
        "\n"
      ],
      "metadata": {
        "colab": {
          "base_uri": "https://localhost:8080/"
        },
        "id": "eRGQKl-AgBS7",
        "outputId": "7d9f5b21-a876-47db-db18-0724d38508d9"
      },
      "execution_count": null,
      "outputs": [
        {
          "output_type": "stream",
          "name": "stdout",
          "text": [
            "Enter num1: \n",
            "14\n",
            "Enter num2: \n",
            "7\n",
            "HCM is 7\n"
          ]
        }
      ]
    },
    {
      "cell_type": "markdown",
      "source": [
        "17AUG"
      ],
      "metadata": {
        "id": "S8CSrrvC4JrA"
      }
    },
    {
      "cell_type": "code",
      "source": [
        "# Write a program in Python to display the Factorial of a number.\n",
        "\n",
        "n=int(input(\"Enter ur num: \\n\"))\n",
        "f=1\n",
        "for i in range(2,n+1,1):\n",
        "  f*=i\n",
        "\n",
        "print(\"The factorial of\",n,\"is\",f)\n",
        "\n",
        "\n"
      ],
      "metadata": {
        "id": "_IKtjly0n0oh",
        "colab": {
          "base_uri": "https://localhost:8080/"
        },
        "outputId": "14aada38-15c0-463f-aa24-b2a6d282a86e"
      },
      "execution_count": null,
      "outputs": [
        {
          "output_type": "stream",
          "name": "stdout",
          "text": [
            "Enter ur num: \n",
            "0\n",
            "The factorial of 0 is 1\n"
          ]
        }
      ]
    },
    {
      "cell_type": "code",
      "source": [
        "#WAP to separate positive and negative number from a list.\n",
        "\n",
        "list1=[1,2,-1,3,-3,5,6,-6]\n",
        "pos=[]\n",
        "neg=[]\n",
        "for i in list1:\n",
        "  if i>=0:\n",
        "    pos.append(i)\n",
        "  else:\n",
        "    neg.append(i)\n",
        "\n",
        "print(pos)\n",
        "print(neg)\n"
      ],
      "metadata": {
        "colab": {
          "base_uri": "https://localhost:8080/"
        },
        "id": "nhEJygB51sEK",
        "outputId": "426f5bb9-820b-45c3-ef3d-6eb28e010c79"
      },
      "execution_count": null,
      "outputs": [
        {
          "output_type": "stream",
          "name": "stdout",
          "text": [
            "[1, 2, 3, 5, 6]\n",
            "[-1, -3, -6]\n"
          ]
        }
      ]
    },
    {
      "cell_type": "code",
      "source": [
        "#3) display fibonnaci series upto 10 terms\n",
        "\n",
        "\n",
        "a=0\n",
        "b=1\n",
        "print(a, end=\" \")\n",
        "print(b, end=\" \")\n",
        "for i in range(8):\n",
        "  c=a+b\n",
        "  a=b\n",
        "  b=c\n",
        "  print(c, end=\" \")\n",
        "\n"
      ],
      "metadata": {
        "colab": {
          "base_uri": "https://localhost:8080/"
        },
        "id": "t3_5ZLr5353o",
        "outputId": "ac3844f9-d2e1-4eaa-d8f9-5bb291e42919"
      },
      "execution_count": null,
      "outputs": [
        {
          "output_type": "stream",
          "name": "stdout",
          "text": [
            "0 1 1 2 3 5 8 13 21 34 "
          ]
        }
      ]
    },
    {
      "cell_type": "code",
      "source": [
        "#3) display fibonnaci series upto 10 terms\n",
        "#rohit solution\n",
        "\n",
        "\n",
        "fibonacci_list=[0,1]\n",
        "number_of_terms=int(input(\"Number of terms :- \"))\n",
        "while len(fibonacci_list)<number_of_terms:\n",
        "  next_term=fibonacci_list[-1]+fibonacci_list[-2]\n",
        "  fibonacci_list.append(next_term)\n",
        "print(fibonacci_list)\n",
        "#0, 1, 1, 2, 3, 5, 8, 13, 21, 34"
      ],
      "metadata": {
        "id": "sRhBXG5X4_Ry"
      },
      "execution_count": null,
      "outputs": []
    },
    {
      "cell_type": "code",
      "source": [
        "\"\"\"\n",
        "1) Write a Python program to find those numbers which are divisible by 7 and multiples of 5, between 1500 and 2700 (both included).\n",
        "\"\"\"\n",
        "\n",
        "for i in range(1500,2701,1):\n",
        "  if i%7==0 and i%5==0:\n",
        "    print(i, end=\" \")\n",
        "\n",
        "\n",
        "\n",
        "\n"
      ],
      "metadata": {
        "colab": {
          "base_uri": "https://localhost:8080/"
        },
        "id": "1XpHMf9yCqGp",
        "outputId": "ce0c1527-4fab-42e5-e165-0165833b1116"
      },
      "execution_count": null,
      "outputs": [
        {
          "output_type": "stream",
          "name": "stdout",
          "text": [
            "1505 1540 1575 1610 1645 1680 1715 1750 1785 1820 1855 1890 1925 1960 1995 2030 2065 2100 2135 2170 2205 2240 2275 2310 2345 2380 2415 2450 2485 2520 2555 2590 2625 2660 2695 "
          ]
        }
      ]
    },
    {
      "cell_type": "code",
      "source": [
        "\"\"\"\n",
        "Write a Python program to count the number of even and odd numbers in a series of numbers\n",
        "Sample numbers : numbers = (1, 2, 3, 4, 5, 6, 7, 8, 9)\n",
        "\n",
        "\"\"\"\n",
        "\n",
        "n=int(input(\"Enter your series length: \\n\"))\n",
        "\n",
        "s=[]\n",
        "for i in range(n):\n",
        "  s.append(i+1)\n",
        "\n",
        "print(\"The series of number: \", s)\n",
        "\n",
        "even_count=0\n",
        "odd_count=0\n",
        "\n",
        "for k in s:\n",
        "  if k%2==0:\n",
        "    even_count+=1\n",
        "  else:\n",
        "    odd_count+=1\n",
        "\n",
        "\n",
        "print(\"# of Even:\", even_count)\n",
        "print(\"# of Odd\", odd_count)\n",
        "\n",
        "\n"
      ],
      "metadata": {
        "colab": {
          "base_uri": "https://localhost:8080/"
        },
        "id": "myXxz1c4CxNn",
        "outputId": "7373d34f-1a83-4f09-8f19-22dec919b5eb"
      },
      "execution_count": null,
      "outputs": [
        {
          "output_type": "stream",
          "name": "stdout",
          "text": [
            "Enter your series length: \n",
            "7\n",
            "The series of number:  [1, 2, 3, 4, 5, 6, 7]\n",
            "# of Even: 3\n",
            "# of Odd 4\n"
          ]
        }
      ]
    },
    {
      "cell_type": "code",
      "source": [
        "\"\"\"Write a Python program that prints all the numbers from 0 to 6 except 3 and 6.\n",
        "\n",
        "Expected Output : 0 1 2 4 5 \"\"\"\n",
        "\n",
        "\n",
        "for i in range(0,6):\n",
        "  if i ==3 or i ==6:\n",
        "    print(\"\", end=\"\")\n",
        "  else:\n",
        "    print(i, end=\" \")"
      ],
      "metadata": {
        "colab": {
          "base_uri": "https://localhost:8080/"
        },
        "id": "_WvnlIeC7Llj",
        "outputId": "43931534-4f15-4529-af23-331086f77b54"
      },
      "execution_count": null,
      "outputs": [
        {
          "output_type": "stream",
          "name": "stdout",
          "text": [
            "0 1 2 4 5 "
          ]
        }
      ]
    },
    {
      "cell_type": "code",
      "source": [
        "\n",
        "\n",
        "\n"
      ],
      "metadata": {
        "id": "BbJSowvn7cbQ"
      },
      "execution_count": null,
      "outputs": []
    },
    {
      "cell_type": "code",
      "source": [],
      "metadata": {
        "id": "lQ9WYBqNB2mU"
      },
      "execution_count": null,
      "outputs": []
    }
  ]
}