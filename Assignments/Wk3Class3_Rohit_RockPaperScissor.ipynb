{
  "nbformat": 4,
  "nbformat_minor": 0,
  "metadata": {
    "colab": {
      "provenance": []
    },
    "kernelspec": {
      "name": "python3",
      "display_name": "Python 3"
    },
    "language_info": {
      "name": "python"
    }
  },
  "cells": [
    {
      "cell_type": "code",
      "execution_count": null,
      "metadata": {
        "id": "2p8e5F3BV71O"
      },
      "outputs": [],
      "source": [
        "\"\"\"3 choice\n",
        "1. Rock\n",
        "2. Paper\n",
        "3. Scissors\n",
        "\n",
        "rock smashes scissors\n",
        "paper cover rocks\n",
        "scissors cut paper\n",
        "\n",
        "same choice tie\n",
        "\"\"\""
      ]
    },
    {
      "cell_type": "code",
      "source": [
        "import random\n",
        "\n",
        "def get_user_choice():\n",
        "    choice = input(\"Rock,paper or scissors?: \\n\").lower()\n",
        "    while choice not in [\"rock\", \"paper\", \"scissors\"]:\n",
        "        print(\"Invalid choice. Please choose rock, paper, or scissors.\")\n",
        "        choice = input(\"Rock,paper or scissors?: \\n\").lower()\n",
        "    return choice\n",
        "\n",
        "def get_computer_choice():\n",
        "    return random.choice([\"rock\", \"paper\", \"scissors\"])\n",
        "\n",
        "def determine_winner(user_choice, computer_choice):\n",
        "    if user_choice == computer_choice:\n",
        "        return \"It's a tie!\"\n",
        "    elif user_choice == \"rock\":\n",
        "        return \"You win!\" if computer_choice == \"scissors\" else \"Computer wins!\"\n",
        "    elif user_choice == \"paper\":\n",
        "        return \"You win!\" if computer_choice == \"rock\" else \"Computer wins!\"\n",
        "    elif user_choice == \"scissors\":\n",
        "        return \"You win!\" if computer_choice == \"paper\" else \"Computer wins!\"\n",
        "\n",
        "def play_again():\n",
        "\n",
        "    return True\n",
        "\n",
        "def main():\n",
        "    print(\"Welcome to Rock! Paper! Scissors!\")\n",
        "\n",
        "    while True:\n",
        "        user_choice = get_user_choice()\n",
        "        computer_choice = get_computer_choice()\n",
        "\n",
        "        print(f\"You chose {user_choice}.\")\n",
        "        print(f\"Computer chose {computer_choice}.\")\n",
        "\n",
        "        result = determine_winner(user_choice, computer_choice)\n",
        "        print(result)\n",
        "\n",
        "\n",
        "\n",
        "        if result==\"It's a tie!\" or result==\"Computer wins!\":\n",
        "          print(\"Try again!\")\n",
        "          play_again()\n",
        "        else:\n",
        "          not play_again()\n",
        "          print(\"Thanks for playing!\")\n",
        "          break\n",
        "\n",
        "main()"
      ],
      "metadata": {
        "colab": {
          "base_uri": "https://localhost:8080/"
        },
        "id": "8mlIeysNWgax",
        "outputId": "9234c6d5-aec5-4de7-f9ff-68ebf0750efb"
      },
      "execution_count": 53,
      "outputs": [
        {
          "output_type": "stream",
          "name": "stdout",
          "text": [
            "Welcome to Rock! Paper! Scissors!\n",
            "Rock,paper or scissors?: \n",
            "Paper\n",
            "You chose paper.\n",
            "Computer chose paper.\n",
            "It's a tie!\n",
            "Try again!\n",
            "Rock,paper or scissors?: \n",
            "paper\n",
            "You chose paper.\n",
            "Computer chose rock.\n",
            "You win!\n",
            "Thanks for playing!\n"
          ]
        }
      ]
    },
    {
      "cell_type": "code",
      "source": [],
      "metadata": {
        "id": "xVDKCm-YW25o"
      },
      "execution_count": 20,
      "outputs": []
    }
  ]
}