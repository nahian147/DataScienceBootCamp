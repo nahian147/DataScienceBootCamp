{
  "nbformat": 4,
  "nbformat_minor": 0,
  "metadata": {
    "colab": {
      "provenance": []
    },
    "kernelspec": {
      "name": "python3",
      "display_name": "Python 3"
    },
    "language_info": {
      "name": "python"
    }
  },
  "cells": [
    {
      "cell_type": "markdown",
      "source": [
        "HW Week1\n",
        "1.A company decided to give bonus of 5% to employee if his/her year of service is more than 5 years.\n",
        "Ask user for their salary and year of service and print the net bonus amount.\n",
        "\n",
        "2.Take values of length and breadth of a rectangle from user and check if it is square or not.\n",
        "\n",
        "3.Take two int values from user and print greatest among them.\n",
        "\n",
        "4.A shop will give discount of 10% if the cost of purchased quantity is more than 1000.\n",
        "Ask user for quantity\n",
        "Suppose, one unit will cost 100.\n",
        "Judge and print total cost for user.\n",
        "\n",
        "5.A school has following rules for grading system:\n",
        "a. Below 25 - F\n",
        "b. 25 to 45 - E\n",
        "c. 45 to 50 - D\n",
        "d. 50 to 60 - C\n",
        "e. 60 to 80 - B\n",
        "f. Above 80 - A\n",
        "Ask user to enter marks and print the corresponding grade.\n",
        "\n",
        "6.Take input of age of 3 people by user and determine oldest and youngest among them.\n",
        "\n",
        "7.Write a program to print absolute vlaue of a number entered by user. E.g.-\n",
        "INPUT: 1        OUTPUT: 1\n",
        "INPUT: -1        OUTPUT: 1\n",
        "\n",
        "8.A student will not be allowed to sit in exam if his/her attendence is less than 75%.\n",
        "Take following input from user\n",
        "Number of classes held\n",
        "Number of classes attended.\n",
        "And print\n",
        "percentage of class attended\n",
        "Is student is allowed to sit in exam or not.\n",
        "\n",
        "9.Modify the above question to allow student to sit if he/she has medical cause. Ask user if he/she has medical cause or not ( 'Y' or 'N' ) and print accordingly.\n"
      ],
      "metadata": {
        "id": "y7Zn9-37d92q"
      }
    },
    {
      "cell_type": "code",
      "execution_count": 6,
      "metadata": {
        "colab": {
          "base_uri": "https://localhost:8080/"
        },
        "id": "ZFqGyIpkd3tE",
        "outputId": "07b5a060-6b5c-44d3-a8a0-e2202dde99fd"
      },
      "outputs": [
        {
          "output_type": "stream",
          "name": "stdout",
          "text": [
            "Enter your salary: 100\n",
            "Enter years of service: 6\n",
            "\n",
            "So your net bonus amount is  105.0\n"
          ]
        }
      ],
      "source": [
        "#1\n",
        "salary= int(input(\"Enter your salary: \" ))\n",
        "years= int(input(\"Enter years of service: \" ))\n",
        "\n",
        "if years>5:\n",
        "  bonus= (5/100)* salary\n",
        "  salary+=bonus\n",
        "\n",
        "print(\"\\nSo your net bonus amount is \", salary)\n",
        "\n",
        "\n"
      ]
    },
    {
      "cell_type": "code",
      "source": [
        "#2\n",
        "length= int(input(\"Enter the length of your rectangle: \" ))\n",
        "breadth= int(input(\"Enter the breadth of your rectangle: \" ))\n",
        "\n",
        "if length==breadth:\n",
        "  print(\"\\nIt is a square\")\n",
        "else:\n",
        "  print(\"\\nIt is not a square\")\n",
        "\n"
      ],
      "metadata": {
        "colab": {
          "base_uri": "https://localhost:8080/"
        },
        "id": "l6q4WAomfeMT",
        "outputId": "45d2d838-96ae-4581-b74a-2183f51e437a"
      },
      "execution_count": 5,
      "outputs": [
        {
          "output_type": "stream",
          "name": "stdout",
          "text": [
            "Enter the length of your rectangle: 4\n",
            "Enter the breadth of your rectangle: 5\n",
            "\n",
            "It is not a square\n"
          ]
        }
      ]
    },
    {
      "cell_type": "code",
      "source": [
        "#3\n",
        "num1= int(input(\"Enter first number: \\n\" ))\n",
        "num2= int(input(\"Enter second number: \\n\" ))\n",
        "\n",
        "if num1> num2:\n",
        "  print(\"\\nNumber 1 is greater than Number 2\")\n",
        "elif num2>num1:\n",
        "  print(\"\\nNumber 2 is greater than Number 1\")\n",
        "else:\n",
        "  print(\"\\nNumber 1 and Number 2 are equal\")\n",
        "\n",
        ""
      ],
      "metadata": {
        "colab": {
          "base_uri": "https://localhost:8080/"
        },
        "id": "STlIDEPNgOC6",
        "outputId": "71e382f1-dfba-406c-a15b-2876b8d9bae0"
      },
      "execution_count": 3,
      "outputs": [
        {
          "output_type": "stream",
          "name": "stdout",
          "text": [
            "Enter first number: \n",
            "23\n",
            "Enter second number: \n",
            "32\n",
            "\n",
            "Number 2 is greater than Number 1\n"
          ]
        }
      ]
    },
    {
      "cell_type": "code",
      "source": [
        "#4\n",
        "print(\"Per unit cost 100!\")\n",
        "quantity = int(input(\"Enter desired quantity: \\n\" ))\n",
        "\n",
        "cost= 100*quantity\n",
        "\n",
        "if cost>1000:\n",
        "  discount= (10/100)*cost\n",
        "  cost-=discount\n",
        "print(\"Total cost is \",cost)\n",
        "\n",
        "\n"
      ],
      "metadata": {
        "colab": {
          "base_uri": "https://localhost:8080/"
        },
        "id": "CsvuoL-lhXge",
        "outputId": "4b8ea5ac-5528-4299-b5b9-2ff2b06f0aff"
      },
      "execution_count": 2,
      "outputs": [
        {
          "output_type": "stream",
          "name": "stdout",
          "text": [
            "Per unit cost 100!\n",
            "Enter desired quantity: \n",
            "20\n",
            "Total cost is  1800.0\n"
          ]
        }
      ]
    },
    {
      "cell_type": "code",
      "source": [
        "#5\n",
        "marks = int(input(\"Enter your marks: \\n\" ))\n",
        "\n",
        "if marks<25 :\n",
        "  print(\"Your grade is F!\")\n",
        "elif 25<=marks<45:\n",
        "  print(\"Your grade is E!\")\n",
        "elif 45<=marks<50:\n",
        "  print(\"Your grade is D!\")\n",
        "elif 50<=marks<60:\n",
        "  print(\"Your grade is C!\")\n",
        "elif 60<=marks<80:\n",
        "  print(\"Your grade is B!\")\n",
        "elif marks>=80:\n",
        "  print(\"Your grade is A!\")\n"
      ],
      "metadata": {
        "colab": {
          "base_uri": "https://localhost:8080/"
        },
        "id": "jKYi00BuURTL",
        "outputId": "68881e4e-cd78-4c28-a983-2424d68ccaab"
      },
      "execution_count": 6,
      "outputs": [
        {
          "output_type": "stream",
          "name": "stdout",
          "text": [
            "Enter your marks: \n",
            "67\n",
            "Your grade is B!\n"
          ]
        }
      ]
    },
    {
      "cell_type": "code",
      "source": [
        "#6\n",
        "\n",
        "age1= int(input(\"Enter age1 : \\n\" ))\n",
        "\n",
        "age2= int(input(\"Enter age2 : \\n\" ))\n",
        "\n",
        "age3= int(input(\"Enter age3 : \\n\" ))\n",
        "\n",
        "max_num= max(age1, age2, age3)\n",
        "min_num= min(age1, age2, age3)\n",
        "\n",
        "print(\"\\nOldest age is\",max_num )\n",
        "print(\"Youngest age is\",min_num )\n",
        "\n",
        "#minnum= min (age1, age2, age3)\n",
        "\n"
      ],
      "metadata": {
        "colab": {
          "base_uri": "https://localhost:8080/"
        },
        "id": "9X65xxS0dSdX",
        "outputId": "1fad61c4-3721-4766-b3a4-eee1585a1b38"
      },
      "execution_count": 15,
      "outputs": [
        {
          "output_type": "stream",
          "name": "stdout",
          "text": [
            "Enter age1 : \n",
            "12\n",
            "Enter age2 : \n",
            "2\n",
            "Enter age3 : \n",
            "45\n",
            "\n",
            "Oldest age is 45\n",
            "Youngest age is 2\n"
          ]
        }
      ]
    },
    {
      "cell_type": "code",
      "source": [
        "#7\n",
        "\n",
        "num= int(input(\"Enter a number:\"))\n",
        "\n",
        "if num<0:\n",
        "  num *=-1\n",
        "\n",
        "print(\"\\nAbsolute value of the number is\", num)"
      ],
      "metadata": {
        "colab": {
          "base_uri": "https://localhost:8080/"
        },
        "id": "mJiJgHXGdZUz",
        "outputId": "76f47aa3-e5fb-4bb0-d100-fdbaa5245ef2"
      },
      "execution_count": 16,
      "outputs": [
        {
          "output_type": "stream",
          "name": "stdout",
          "text": [
            "Enter a number:-1\n",
            "\n",
            "Absolute value of the number is 1\n"
          ]
        }
      ]
    },
    {
      "cell_type": "code",
      "source": [
        "#8 and 9\n",
        "class_held=int(input(\"Enter number of classes held:\\n\"))\n",
        "\n",
        "class_attnd=int(input(\"Enter number of classes attended:\\n\"))\n",
        "\n",
        "percentOfClass= ((class_attnd/class_held)*100)\n",
        "\n",
        "if percentOfClass<75:\n",
        "  print(\"Not allowed to sit in exam!\")\n",
        "  medical_cause= input(\"Press Y if you had medical cause, N for no.\\n\").lower()\n",
        "  if  medical_cause ==\"y\":\n",
        "    print(\"Allowed to sit in exam!\")\n",
        "  elif medical_cause ==\"n\":\n",
        "    print(\"Not allowed to sit in exam!\")\n",
        "  else:\n",
        "    print(\"Invalid input!\")\n",
        "else:\n",
        "  print(\"Allowed to sit in exam!\")\n",
        "\n",
        "\n",
        "\n",
        "\n"
      ],
      "metadata": {
        "colab": {
          "base_uri": "https://localhost:8080/"
        },
        "id": "btxzx91cgApv",
        "outputId": "81e0994e-9983-4746-e07a-4fd84f7e3bf1"
      },
      "execution_count": 22,
      "outputs": [
        {
          "output_type": "stream",
          "name": "stdout",
          "text": [
            "Enter number of classes held:\n",
            "3\n",
            "Enter number of classes attended:\n",
            "1\n",
            "Not allowed to sit in exam!\n",
            "Press Y if you had medical cause, N for no.\n",
            "y\n",
            "Allowed to sit in exam!\n"
          ]
        }
      ]
    },
    {
      "cell_type": "code",
      "source": [],
      "metadata": {
        "id": "8IbaQ547hyhG"
      },
      "execution_count": null,
      "outputs": []
    }
  ]
}