{
  "nbformat": 4,
  "nbformat_minor": 0,
  "metadata": {
    "colab": {
      "provenance": []
    },
    "kernelspec": {
      "name": "python3",
      "display_name": "Python 3"
    },
    "language_info": {
      "name": "python"
    }
  },
  "cells": [
    {
      "cell_type": "code",
      "source": [
        "#Program #1\n",
        "\n",
        "for i in range(0,10):\n",
        "  for j in range(0,i):\n",
        "    print(\" \", end=\"\")\n",
        "  for k in range(i+1,11,1):\n",
        "    if k==10:\n",
        "      print(\"0\", end=\" \")\n",
        "\n",
        "    else:\n",
        "      print(k, end=\" \")\n",
        "\n",
        "\n",
        "  print(\"\\r\")"
      ],
      "metadata": {
        "colab": {
          "base_uri": "https://localhost:8080/"
        },
        "id": "ksWUO-niB60j",
        "outputId": "19bf40ae-20be-4e67-97bb-a82b5639a71c"
      },
      "execution_count": 26,
      "outputs": [
        {
          "output_type": "stream",
          "name": "stdout",
          "text": [
            "1 2 3 4 5 6 7 8 9 0 \r\n",
            " 2 3 4 5 6 7 8 9 0 \r\n",
            "  3 4 5 6 7 8 9 0 \r\n",
            "   4 5 6 7 8 9 0 \r\n",
            "    5 6 7 8 9 0 \r\n",
            "     6 7 8 9 0 \r\n",
            "      7 8 9 0 \r\n",
            "       8 9 0 \r\n",
            "        9 0 \r\n",
            "         0 \r\n"
          ]
        }
      ]
    },
    {
      "cell_type": "code",
      "source": [
        "# Program 2\n",
        "\n",
        "for i in range(0,10):\n",
        "  for j in range(0,i+1):\n",
        "    print(\" \", end=\"\")\n",
        "  for k in range(10-i,0,-1):\n",
        "    if k==10:\n",
        "      print(\"0\", end=\" \")\n",
        "\n",
        "    else:\n",
        "      print(k, end=\" \")\n",
        "\n",
        "\n",
        "  print(\"\\r\")\n",
        "\n"
      ],
      "metadata": {
        "colab": {
          "base_uri": "https://localhost:8080/"
        },
        "id": "kXmi1QbCFarq",
        "outputId": "0211122b-aa2c-4dd4-ca2c-cdb31d4aa843"
      },
      "execution_count": 29,
      "outputs": [
        {
          "output_type": "stream",
          "name": "stdout",
          "text": [
            " 0 9 8 7 6 5 4 3 2 1 \r\n",
            "  9 8 7 6 5 4 3 2 1 \r\n",
            "   8 7 6 5 4 3 2 1 \r\n",
            "    7 6 5 4 3 2 1 \r\n",
            "     6 5 4 3 2 1 \r\n",
            "      5 4 3 2 1 \r\n",
            "       4 3 2 1 \r\n",
            "        3 2 1 \r\n",
            "         2 1 \r\n",
            "          1 \r\n"
          ]
        }
      ]
    },
    {
      "cell_type": "code",
      "source": [
        "\n",
        "for i in range(0,10):\n",
        "  for j in range(0,i+1):\n",
        "    print(\" \", end=\"\")\n",
        "  for k in range(10-i,0,-1):\n",
        "    if k==10:\n",
        "      print(\"0\", end=\" \")\n",
        "\n",
        "    else:\n",
        "      print(k, end=\" \")\n",
        "\n",
        "\n",
        "  print(\"\\r\")\n",
        "\n",
        "\n",
        "\n",
        "for i in range(0,9):\n",
        "  for j in range(10,i+1,-1):\n",
        "    print(\" \", end=\"\")\n",
        "  for k in range(2+i,0,-1):\n",
        "    if k==10:\n",
        "      print(\"0\", end=\" \")\n",
        "\n",
        "    else:\n",
        "      print(k, end=\" \")\n",
        "\n",
        "\n",
        "  print(\"\\r\")\n",
        ""
      ],
      "metadata": {
        "colab": {
          "base_uri": "https://localhost:8080/"
        },
        "id": "ZXCtTwnJHazT",
        "outputId": "1ab49047-fe01-486e-e60e-f051b6486161"
      },
      "execution_count": 32,
      "outputs": [
        {
          "output_type": "stream",
          "name": "stdout",
          "text": [
            " 0 9 8 7 6 5 4 3 2 1 \r\n",
            "  9 8 7 6 5 4 3 2 1 \r\n",
            "   8 7 6 5 4 3 2 1 \r\n",
            "    7 6 5 4 3 2 1 \r\n",
            "     6 5 4 3 2 1 \r\n",
            "      5 4 3 2 1 \r\n",
            "       4 3 2 1 \r\n",
            "        3 2 1 \r\n",
            "         2 1 \r\n",
            "          1 \r\n",
            "         2 1 \r\n",
            "        3 2 1 \r\n",
            "       4 3 2 1 \r\n",
            "      5 4 3 2 1 \r\n",
            "     6 5 4 3 2 1 \r\n",
            "    7 6 5 4 3 2 1 \r\n",
            "   8 7 6 5 4 3 2 1 \r\n",
            "  9 8 7 6 5 4 3 2 1 \r\n",
            " 0 9 8 7 6 5 4 3 2 1 \r\n"
          ]
        }
      ]
    },
    {
      "cell_type": "code",
      "execution_count": 16,
      "metadata": {
        "colab": {
          "base_uri": "https://localhost:8080/"
        },
        "id": "qxoFDNbRA_rS",
        "outputId": "271f04ac-b1c6-455d-d29d-f5c5644a2e2a"
      },
      "outputs": [
        {
          "output_type": "stream",
          "name": "stdout",
          "text": [
            "\r\n",
            "1 \r\n",
            "2 2 \r\n",
            "3 3 3 \r\n",
            "4 4 4 4 \r\n",
            "5 5 5 5 5 \r\n",
            "6 6 6 6 6 6 \r\n",
            "7 7 7 7 7 7 7 \r\n",
            "8 8 8 8 8 8 8 8 \r\n",
            "9 9 9 9 9 9 9 9 9 \r\n"
          ]
        }
      ],
      "source": [
        "#Program #4\n",
        "\n",
        "for i in range(0,10):\n",
        "  for j in range(1,i+1):\n",
        "    print(i , end=\" \")\n",
        "  print(\"\\r\")"
      ]
    },
    {
      "cell_type": "code",
      "source": [
        "#Program#5\n",
        "n = 8\n",
        "for k in range(1, n + 1):\n",
        "  for m in range(1, k-1):\n",
        "    print(m, end=\" \")\n",
        "  for m in range(k-1, 0, -1):\n",
        "    print(m, end=\" \")\n",
        "  print('\\r')"
      ],
      "metadata": {
        "id": "wNzUt-KTBYEN",
        "colab": {
          "base_uri": "https://localhost:8080/"
        },
        "outputId": "571d142f-5efb-4fae-d0ce-4c6e81173662"
      },
      "execution_count": 33,
      "outputs": [
        {
          "output_type": "stream",
          "name": "stdout",
          "text": [
            "\r\n",
            "1 \r\n",
            "1 2 1 \r\n",
            "1 2 3 2 1 \r\n",
            "1 2 3 4 3 2 1 \r\n",
            "1 2 3 4 5 4 3 2 1 \r\n",
            "1 2 3 4 5 6 5 4 3 2 1 \r\n",
            "1 2 3 4 5 6 7 6 5 4 3 2 1 \r\n"
          ]
        }
      ]
    },
    {
      "cell_type": "code",
      "source": [
        "    #program6\n",
        "\n",
        "    n = 10\n",
        "    for r in range(1, n):\n",
        "        digit = 1\n",
        "        for m in range(n, 0, -1):\n",
        "            if m > r:\n",
        "                print(\"\", end=' ')\n",
        "            else:\n",
        "                print(digit, end=' ')\n",
        "                digit += 1\n",
        "        print(\"\")"
      ],
      "metadata": {
        "colab": {
          "base_uri": "https://localhost:8080/"
        },
        "id": "Zkl60Y5JIdko",
        "outputId": "99416cc0-4db1-4b71-f406-b12623644d5d"
      },
      "execution_count": 36,
      "outputs": [
        {
          "output_type": "stream",
          "name": "stdout",
          "text": [
            "         1 \n",
            "        1 2 \n",
            "       1 2 3 \n",
            "      1 2 3 4 \n",
            "     1 2 3 4 5 \n",
            "    1 2 3 4 5 6 \n",
            "   1 2 3 4 5 6 7 \n",
            "  1 2 3 4 5 6 7 8 \n",
            " 1 2 3 4 5 6 7 8 9 \n"
          ]
        }
      ]
    },
    {
      "cell_type": "code",
      "source": [
        "#Prog8\n",
        "\n",
        "\n",
        "n = 10\n",
        "for k in range(0, n):\n",
        "  for m in range(n-1, k-1):\n",
        "    print(m, end=\" \")\n",
        "  for j in range(k):\n",
        "    print('', end=\" \")\n",
        "  for h in range(k + 1, n):\n",
        "    print(h, end=\" \")\n",
        "  print('\\r')"
      ],
      "metadata": {
        "colab": {
          "base_uri": "https://localhost:8080/"
        },
        "id": "cHQ2uIOvI6FK",
        "outputId": "13248eae-4731-4c1e-f061-fdf7841cf047"
      },
      "execution_count": 38,
      "outputs": [
        {
          "output_type": "stream",
          "name": "stdout",
          "text": [
            "1 2 3 4 5 6 7 8 9 \r\n",
            " 2 3 4 5 6 7 8 9 \r\n",
            "  3 4 5 6 7 8 9 \r\n",
            "   4 5 6 7 8 9 \r\n",
            "    5 6 7 8 9 \r\n",
            "     6 7 8 9 \r\n",
            "      7 8 9 \r\n",
            "       8 9 \r\n",
            "        9 \r\n",
            "         \r\n"
          ]
        }
      ]
    },
    {
      "cell_type": "code",
      "source": [
        "#Program9\n",
        "beg = 1\n",
        "end = 2\n",
        "curr = end\n",
        "for r in range(1, 8):\n",
        "  for c in range(beg, end):\n",
        "    curr -= 1\n",
        "    print(curr, end=' ')\n",
        "  print(\"\")\n",
        "  beg = end\n",
        "  end += r\n",
        "  curr = end"
      ],
      "metadata": {
        "colab": {
          "base_uri": "https://localhost:8080/"
        },
        "id": "a_jPVF-rI-Eq",
        "outputId": "1ccd4f07-ed70-435b-8f68-ea193f4e1b48"
      },
      "execution_count": 40,
      "outputs": [
        {
          "output_type": "stream",
          "name": "stdout",
          "text": [
            "1 \n",
            "2 \n",
            "4 3 \n",
            "7 6 5 \n",
            "11 10 9 8 \n",
            "16 15 14 13 12 \n",
            "22 21 20 19 18 17 \n"
          ]
        }
      ]
    },
    {
      "cell_type": "code",
      "source": [
        "#Prog10\n",
        "\n",
        "n = 7\n",
        "digit = n\n",
        "for k in range(n, 0, -1):\n",
        "  for m in range(0, k):\n",
        "    print(digit, end=' ')\n",
        "  print(\"\\r\")"
      ],
      "metadata": {
        "colab": {
          "base_uri": "https://localhost:8080/"
        },
        "id": "L_oBhFRiJlEB",
        "outputId": "68561ad1-b38d-4a69-dfd4-9f7660b1f7af"
      },
      "execution_count": 41,
      "outputs": [
        {
          "output_type": "stream",
          "name": "stdout",
          "text": [
            "7 7 7 7 7 7 7 \r\n",
            "7 7 7 7 7 7 \r\n",
            "7 7 7 7 7 \r\n",
            "7 7 7 7 \r\n",
            "7 7 7 \r\n",
            "7 7 \r\n",
            "7 \r\n"
          ]
        }
      ]
    },
    {
      "cell_type": "code",
      "source": [
        "# Program#11 Find the Square Root\n",
        "\n",
        "num = float(input('Enter a number: '))\n",
        "\n",
        "num_sqrt = num ** 0.5\n",
        "print('The square root of %0.3f is %0.3f'%(num ,num_sqrt))"
      ],
      "metadata": {
        "colab": {
          "base_uri": "https://localhost:8080/"
        },
        "id": "t8BoxRrtJ6NR",
        "outputId": "ccbb875c-3626-4551-a589-6f1f469b3910"
      },
      "execution_count": 42,
      "outputs": [
        {
          "output_type": "stream",
          "name": "stdout",
          "text": [
            "Enter a number: 49\n",
            "The square root of 49.000 is 7.000\n"
          ]
        }
      ]
    },
    {
      "cell_type": "code",
      "source": [],
      "metadata": {
        "id": "tf6AOGZbKGeg"
      },
      "execution_count": null,
      "outputs": []
    }
  ]
}