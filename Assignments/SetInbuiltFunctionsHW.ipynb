{
  "nbformat": 4,
  "nbformat_minor": 0,
  "metadata": {
    "colab": {
      "provenance": []
    },
    "kernelspec": {
      "name": "python3",
      "display_name": "Python 3"
    },
    "language_info": {
      "name": "python"
    }
  },
  "cells": [
    {
      "cell_type": "code",
      "execution_count": null,
      "metadata": {
        "colab": {
          "base_uri": "https://localhost:8080/"
        },
        "id": "wCnKYUivzUmX",
        "outputId": "4cbc7543-904c-454c-e3b6-681b138adfd7"
      },
      "outputs": [
        {
          "output_type": "execute_result",
          "data": {
            "text/plain": [
              "['__and__',\n",
              " '__class__',\n",
              " '__class_getitem__',\n",
              " '__contains__',\n",
              " '__delattr__',\n",
              " '__dir__',\n",
              " '__doc__',\n",
              " '__eq__',\n",
              " '__format__',\n",
              " '__ge__',\n",
              " '__getattribute__',\n",
              " '__gt__',\n",
              " '__hash__',\n",
              " '__iand__',\n",
              " '__init__',\n",
              " '__init_subclass__',\n",
              " '__ior__',\n",
              " '__isub__',\n",
              " '__iter__',\n",
              " '__ixor__',\n",
              " '__le__',\n",
              " '__len__',\n",
              " '__lt__',\n",
              " '__ne__',\n",
              " '__new__',\n",
              " '__or__',\n",
              " '__rand__',\n",
              " '__reduce__',\n",
              " '__reduce_ex__',\n",
              " '__repr__',\n",
              " '__ror__',\n",
              " '__rsub__',\n",
              " '__rxor__',\n",
              " '__setattr__',\n",
              " '__sizeof__',\n",
              " '__str__',\n",
              " '__sub__',\n",
              " '__subclasshook__',\n",
              " '__xor__',\n",
              " 'add',\n",
              " 'clear',\n",
              " 'copy',\n",
              " 'difference',\n",
              " 'difference_update',\n",
              " 'discard',\n",
              " 'intersection',\n",
              " 'intersection_update',\n",
              " 'isdisjoint',\n",
              " 'issubset',\n",
              " 'issuperset',\n",
              " 'pop',\n",
              " 'remove',\n",
              " 'symmetric_difference',\n",
              " 'symmetric_difference_update',\n",
              " 'union',\n",
              " 'update']"
            ]
          },
          "metadata": {},
          "execution_count": 1
        }
      ],
      "source": [
        "set1={1,2,-1,0,3,4,5,6,-8}\n",
        "\n",
        "dir(set1)"
      ]
    },
    {
      "cell_type": "code",
      "source": [
        "#ADD adds element in the set\n",
        "\n",
        "set1={1,2,-1,0,3,4,5,6,-8}\n",
        "\n",
        "set1.add(9)\n",
        "print(set1)\n",
        "\n",
        "set1.add(1) #doesnt add if already there; property of set no dupli\n",
        "print(set1)\n",
        "\n"
      ],
      "metadata": {
        "colab": {
          "base_uri": "https://localhost:8080/"
        },
        "id": "DK3O3ASGztd3",
        "outputId": "e8f58774-5fd0-478c-fc25-c044a9777439"
      },
      "execution_count": null,
      "outputs": [
        {
          "output_type": "stream",
          "name": "stdout",
          "text": [
            "{0, 1, 2, 3, 4, 5, 6, 9, -8, -1}\n",
            "{0, 1, 2, 3, 4, 5, 6, 9, -8, -1}\n"
          ]
        }
      ]
    },
    {
      "cell_type": "code",
      "source": [
        "#Clears all element\n",
        "\n",
        "set1={1,2,-1,0,3,4,5,6,-8}\n",
        "\n",
        "set1.clear()\n",
        "print(set1)\n",
        "\n"
      ],
      "metadata": {
        "colab": {
          "base_uri": "https://localhost:8080/"
        },
        "id": "VzAncZxWz46F",
        "outputId": "9e35d922-d459-4b38-d870-440f1e6cedeb"
      },
      "execution_count": null,
      "outputs": [
        {
          "output_type": "stream",
          "name": "stdout",
          "text": [
            "set()\n"
          ]
        }
      ]
    },
    {
      "cell_type": "code",
      "source": [
        "#COPY\n",
        "\n",
        "set1={1,2,-1,0,3,4,5,6,-8}\n",
        "\n",
        "set2= set1.copy() #copies entire set\n",
        "print(set2)"
      ],
      "metadata": {
        "colab": {
          "base_uri": "https://localhost:8080/"
        },
        "id": "9jtLn5Z10TV-",
        "outputId": "b74ca4f9-f120-44ad-ce40-22f3e8c4ddfc"
      },
      "execution_count": null,
      "outputs": [
        {
          "output_type": "stream",
          "name": "stdout",
          "text": [
            "{0, 1, 2, 3, 4, 5, 6, -8, -1}\n"
          ]
        }
      ]
    },
    {
      "cell_type": "code",
      "source": [
        "#Difference and difference update\n",
        "\"\"\"The difference_update() method is different from the difference() method,\n",
        "because the difference() method returns a new set, without the unwanted items,\n",
        "and the difference_update() method removes the unwanted items from the original set.\"\"\"\n",
        "\n",
        "x = {\"a\", \"b\", \"c\"}\n",
        "y = {\"g\", \"m\", \"a\"}\n",
        "\n",
        "z = x.difference(y)  #doesnt change x\n",
        "print(z, \"is the new set\")\n",
        "print(x,\"is the old set\" )\n",
        "\n",
        "\n"
      ],
      "metadata": {
        "colab": {
          "base_uri": "https://localhost:8080/"
        },
        "id": "uQHiWb7X0lMg",
        "outputId": "5e17c859-afe7-4715-8cb6-be451d38336a"
      },
      "execution_count": null,
      "outputs": [
        {
          "output_type": "stream",
          "name": "stdout",
          "text": [
            "{'b', 'c'} is the new set\n",
            "{'b', 'c', 'a'} is the old set\n"
          ]
        }
      ]
    },
    {
      "cell_type": "code",
      "source": [
        "x = {\"a\", \"b\", \"c\"}\n",
        "y = {\"g\", \"m\", \"a\"}\n",
        "\n",
        "z= x.difference_update(y) #removes  x\n",
        "print(z, \"is the new set\")\n",
        "print(x,\"is the old set\" )\n"
      ],
      "metadata": {
        "colab": {
          "base_uri": "https://localhost:8080/"
        },
        "id": "XvTjlLHo3ww2",
        "outputId": "9cd7fc61-562d-4b6d-f9d2-167005391568"
      },
      "execution_count": null,
      "outputs": [
        {
          "output_type": "stream",
          "name": "stdout",
          "text": [
            "None is the new set\n",
            "{'b', 'c'} is the old set\n"
          ]
        }
      ]
    },
    {
      "cell_type": "code",
      "source": [
        "#'discard' removes specific item\n",
        "\n",
        "x = {\"a\", \"b\", \"c\"}\n",
        "x.discard(\"a\")\n",
        "\n",
        "print(x)\n"
      ],
      "metadata": {
        "colab": {
          "base_uri": "https://localhost:8080/"
        },
        "id": "R47XCFL0RupD",
        "outputId": "d0e4de70-c7a4-4513-9ef2-7928fb624d05"
      },
      "execution_count": null,
      "outputs": [
        {
          "output_type": "stream",
          "name": "stdout",
          "text": [
            "{'b', 'c'}\n"
          ]
        }
      ]
    },
    {
      "cell_type": "code",
      "source": [
        "#intersection  and intersection update\n",
        "\n",
        "x = {\"apple\", \"banana\", \"cherry\"}\n",
        "y = {\"google\", \"microsoft\", \"apple\"}\n",
        "\n",
        "z = x.intersection(y)\n",
        "#z=x.intersection_update(y)\n",
        "print(z)\n",
        "print(x)\n",
        "\n",
        "\n",
        "\n"
      ],
      "metadata": {
        "colab": {
          "base_uri": "https://localhost:8080/"
        },
        "id": "9KYtgWNZSits",
        "outputId": "a73fd5e1-74a6-4197-acf8-80a6e6abb5b7"
      },
      "execution_count": null,
      "outputs": [
        {
          "output_type": "stream",
          "name": "stdout",
          "text": [
            "{'apple'}\n"
          ]
        }
      ]
    },
    {
      "cell_type": "code",
      "source": [
        "#isDisjoint: Returns whether two sets have no intersection\n",
        "\n",
        "x = {\"apple\", \"banana\", \"cherry\"}\n",
        "y = {\"google\", \"microsoft\"}\n",
        "\n",
        "print(x.isdisjoint(y)) #returns true if no intersection\n",
        "\n"
      ],
      "metadata": {
        "colab": {
          "base_uri": "https://localhost:8080/"
        },
        "id": "hoA5ShO9StKH",
        "outputId": "d9483aa7-bf27-4bf6-f890-953aa5d4e066"
      },
      "execution_count": null,
      "outputs": [
        {
          "output_type": "stream",
          "name": "stdout",
          "text": [
            "True\n"
          ]
        }
      ]
    },
    {
      "cell_type": "code",
      "source": [
        "#issubset: of another set\n",
        "\n",
        "x = {\"apple\"}\n",
        "y = {\"google\", \"microsoft\",\"apple\"}\n",
        "\n",
        "print(x.issubset(y))"
      ],
      "metadata": {
        "colab": {
          "base_uri": "https://localhost:8080/"
        },
        "id": "hfjcRjMAXJzb",
        "outputId": "03e747dd-4bd9-448e-c1e4-94697e1e40f6"
      },
      "execution_count": null,
      "outputs": [
        {
          "output_type": "stream",
          "name": "stdout",
          "text": [
            "True\n"
          ]
        }
      ]
    },
    {
      "cell_type": "code",
      "source": [
        "#issuperset: of another set\n",
        "x = {\"apple\"}\n",
        "y = {\"google\", \"microsoft\",\"apple\"}\n",
        "\n",
        "print(y.issuperset(x))"
      ],
      "metadata": {
        "colab": {
          "base_uri": "https://localhost:8080/"
        },
        "id": "IO7p1p4-YGOV",
        "outputId": "7f39ceb6-1242-4375-9cbd-fc0b7fa59b6b"
      },
      "execution_count": null,
      "outputs": [
        {
          "output_type": "stream",
          "name": "stdout",
          "text": [
            "True\n"
          ]
        }
      ]
    },
    {
      "cell_type": "code",
      "source": [
        "#pops out last element\n",
        "a={1,2,3,4}\n",
        "a.pop()\n",
        "\n",
        "print(a)"
      ],
      "metadata": {
        "colab": {
          "base_uri": "https://localhost:8080/"
        },
        "id": "tnKsabIRaJAt",
        "outputId": "fbc18390-b157-4c9b-f632-3dcbe481f0a3"
      },
      "execution_count": null,
      "outputs": [
        {
          "output_type": "stream",
          "name": "stdout",
          "text": [
            "{2, 3, 4}\n"
          ]
        }
      ]
    },
    {
      "cell_type": "code",
      "source": [
        "#removes specific element\n",
        "\n",
        "\n",
        "fruits = {\"apple\", \"banana\", \"cherry\"}\n",
        "\n",
        "fruits.remove(\"banana\")\n",
        "\n",
        "print(fruits)"
      ],
      "metadata": {
        "colab": {
          "base_uri": "https://localhost:8080/"
        },
        "id": "tay5e7boMo43",
        "outputId": "00a88a3e-bc23-4db7-b8c6-5fd48ec0d282"
      },
      "execution_count": 1,
      "outputs": [
        {
          "output_type": "stream",
          "name": "stdout",
          "text": [
            "{'apple', 'cherry'}\n"
          ]
        }
      ]
    },
    {
      "cell_type": "code",
      "source": [
        "#Returns a set with the symmetric differences of two sets\n",
        "\n",
        "\n",
        "x = {\"apple\", \"banana\", \"cherry\"}\n",
        "y = {\"google\", \"microsoft\", \"apple\"}\n",
        "\n",
        "z = x.symmetric_difference(y)\n",
        "\n",
        "print(z)"
      ],
      "metadata": {
        "id": "vrosy4A2aghL",
        "colab": {
          "base_uri": "https://localhost:8080/"
        },
        "outputId": "a27c6ec5-3ac8-469c-a121-3255b1f30169"
      },
      "execution_count": 2,
      "outputs": [
        {
          "output_type": "stream",
          "name": "stdout",
          "text": [
            "{'microsoft', 'cherry', 'google', 'banana'}\n"
          ]
        }
      ]
    },
    {
      "cell_type": "code",
      "source": [
        "#inserts the symmetric differences from this set and another\n",
        "x = {\"apple\", \"banana\", \"cherry\"}\n",
        "y = {\"google\", \"microsoft\", \"apple\"}\n",
        "\n",
        "x.symmetric_difference_update(y)\n",
        "\n",
        "print(x)"
      ],
      "metadata": {
        "colab": {
          "base_uri": "https://localhost:8080/"
        },
        "id": "Mfk7rsc-NDJM",
        "outputId": "4b94c366-567f-40a2-d1f4-ee4e27be9a23"
      },
      "execution_count": 3,
      "outputs": [
        {
          "output_type": "stream",
          "name": "stdout",
          "text": [
            "{'microsoft', 'cherry', 'google', 'banana'}\n"
          ]
        }
      ]
    },
    {
      "cell_type": "code",
      "source": [
        "#Return a set containing the union of sets\n",
        "\n",
        "x = {\"apple\", \"banana\", \"cherry\"}\n",
        "y = {\"google\", \"microsoft\", \"apple\"}\n",
        "\n",
        "z = x.union(y)\n",
        "\n",
        "print(z)"
      ],
      "metadata": {
        "colab": {
          "base_uri": "https://localhost:8080/"
        },
        "id": "V0wyeMjUNFJ7",
        "outputId": "1379c78a-4c4e-4d85-ce14-68dcaa645035"
      },
      "execution_count": 4,
      "outputs": [
        {
          "output_type": "stream",
          "name": "stdout",
          "text": [
            "{'apple', 'microsoft', 'cherry', 'google', 'banana'}\n"
          ]
        }
      ]
    },
    {
      "cell_type": "code",
      "source": [
        "#Update the set with another set, or any other iterable\n",
        "\n",
        "x = {\"apple\", \"banana\", \"cherry\"}\n",
        "y = {\"google\", \"microsoft\", \"apple\"}\n",
        "\n",
        "x.update(y)\n",
        "\n",
        "print(x)"
      ],
      "metadata": {
        "colab": {
          "base_uri": "https://localhost:8080/"
        },
        "id": "kSEqgxwZNH_V",
        "outputId": "495ffc94-21e3-49e6-b65f-271ae7e7529e"
      },
      "execution_count": 5,
      "outputs": [
        {
          "output_type": "stream",
          "name": "stdout",
          "text": [
            "{'apple', 'microsoft', 'cherry', 'google', 'banana'}\n"
          ]
        }
      ]
    },
    {
      "cell_type": "code",
      "source": [],
      "metadata": {
        "id": "9Qm2yK3sNfCu"
      },
      "execution_count": null,
      "outputs": []
    }
  ]
}